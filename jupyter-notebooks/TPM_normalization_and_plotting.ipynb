{
 "cells": [
  {
   "cell_type": "markdown",
   "id": "335441c0",
   "metadata": {},
   "source": [
    "### Calculating transcripts per million and z-scores for dinoflagellated-filtered metatranscriptomic ORFs\n",
    "\n",
    "This script reads in an annotated ORF file with taxonomy, maps read counts onto it, calculates transcripts per million for all ORFs, then filters for the top 50 most variant genes (from the Cohen et al. paper), calculates z-scores and plots the output as a heat map"
   ]
  },
  {
   "cell_type": "code",
   "execution_count": 8,
   "id": "bbf60dc2",
   "metadata": {},
   "outputs": [],
   "source": [
    "import os\n",
    "import glob\n",
    "import pysam\n",
    "import pandas as pd\n",
    "import numpy as np\n",
    "import matplotlib.pyplot as plt\n",
    "import seaborn as sns"
   ]
  },
  {
   "cell_type": "code",
   "execution_count": 9,
   "id": "917176c3",
   "metadata": {},
   "outputs": [],
   "source": [
    "working_dir = '/vortexfs1/omics/env-bio/collaboration/dinoflagellates_METZYME/data/metaT_trimmed_reads/fasta_files/paired/mRNA/'"
   ]
  },
  {
   "cell_type": "markdown",
   "id": "f23710d4",
   "metadata": {},
   "source": [
    "### Read in annotated ORF file with taxonomy"
   ]
  },
  {
   "cell_type": "code",
   "execution_count": 11,
   "id": "07b3cee3",
   "metadata": {},
   "outputs": [],
   "source": [
    "# Same TSV file generated in metaT_taxonomy.ipynb\n",
    "\n",
    "dino_ORFs = 'diamond_output/dino_metzyme_annotated_coassembly_diamond_out_dinophyta.tsv'\n",
    "\n",
    "df_dino = pd.read_csv(working_dir+dino_ORFs, sep='\\t', header=0, index_col=0)"
   ]
  },
  {
   "cell_type": "code",
   "execution_count": 12,
   "id": "7fe21002",
   "metadata": {},
   "outputs": [
    {
     "data": {
      "text/html": [
       "<div>\n",
       "<style scoped>\n",
       "    .dataframe tbody tr th:only-of-type {\n",
       "        vertical-align: middle;\n",
       "    }\n",
       "\n",
       "    .dataframe tbody tr th {\n",
       "        vertical-align: top;\n",
       "    }\n",
       "\n",
       "    .dataframe thead th {\n",
       "        text-align: right;\n",
       "    }\n",
       "</style>\n",
       "<table border=\"1\" class=\"dataframe\">\n",
       "  <thead>\n",
       "    <tr style=\"text-align: right;\">\n",
       "      <th></th>\n",
       "      <th>qseqid</th>\n",
       "      <th>sseqid</th>\n",
       "      <th>pident</th>\n",
       "      <th>length</th>\n",
       "      <th>mismatch</th>\n",
       "      <th>gapopen</th>\n",
       "      <th>qstart</th>\n",
       "      <th>qend</th>\n",
       "      <th>sstart</th>\n",
       "      <th>send</th>\n",
       "      <th>evalue</th>\n",
       "      <th>bitscore</th>\n",
       "      <th>taxonomy</th>\n",
       "    </tr>\n",
       "  </thead>\n",
       "  <tbody>\n",
       "    <tr>\n",
       "      <th>227</th>\n",
       "      <td>NODE_26_length_11492_cov_18.457578_g19_i0_2_57...</td>\n",
       "      <td>Karenia-brevis-SP1-20130916|289615_1</td>\n",
       "      <td>33.7</td>\n",
       "      <td>1063</td>\n",
       "      <td>639</td>\n",
       "      <td>24</td>\n",
       "      <td>628</td>\n",
       "      <td>1654</td>\n",
       "      <td>3</td>\n",
       "      <td>1035</td>\n",
       "      <td>1.010000e-146</td>\n",
       "      <td>491.0</td>\n",
       "      <td>Eukaryota;Alveolata;Dinophyta;Dinophyceae;Dino...</td>\n",
       "    </tr>\n",
       "    <tr>\n",
       "      <th>231</th>\n",
       "      <td>NODE_14_length_13360_cov_26.370005_g9_i0_1698_...</td>\n",
       "      <td>Oxyrrhis-marina-20131105|151477_1</td>\n",
       "      <td>44.0</td>\n",
       "      <td>427</td>\n",
       "      <td>192</td>\n",
       "      <td>3</td>\n",
       "      <td>1</td>\n",
       "      <td>427</td>\n",
       "      <td>1</td>\n",
       "      <td>380</td>\n",
       "      <td>2.230000e-109</td>\n",
       "      <td>341.0</td>\n",
       "      <td>Eukaryota;Alveolata;Dinophyta;Dinophyceae;Dino...</td>\n",
       "    </tr>\n",
       "    <tr>\n",
       "      <th>301</th>\n",
       "      <td>NODE_42_length_9922_cov_24.243123_g4_i1_2_1073_-</td>\n",
       "      <td>Karenia-brevis-SP1-20130916|45901_1</td>\n",
       "      <td>65.8</td>\n",
       "      <td>342</td>\n",
       "      <td>113</td>\n",
       "      <td>2</td>\n",
       "      <td>20</td>\n",
       "      <td>357</td>\n",
       "      <td>93</td>\n",
       "      <td>434</td>\n",
       "      <td>1.080000e-159</td>\n",
       "      <td>464.0</td>\n",
       "      <td>Eukaryota;Alveolata;Dinophyta;Dinophyceae;Dino...</td>\n",
       "    </tr>\n",
       "    <tr>\n",
       "      <th>442</th>\n",
       "      <td>NODE_55_length_9298_cov_13.604855_g19_i1_2_4708_-</td>\n",
       "      <td>Karenia-brevis-SP1-20130916|289615_1</td>\n",
       "      <td>33.7</td>\n",
       "      <td>1063</td>\n",
       "      <td>639</td>\n",
       "      <td>24</td>\n",
       "      <td>267</td>\n",
       "      <td>1293</td>\n",
       "      <td>3</td>\n",
       "      <td>1035</td>\n",
       "      <td>8.550000e-149</td>\n",
       "      <td>491.0</td>\n",
       "      <td>Eukaryota;Alveolata;Dinophyta;Dinophyceae;Dino...</td>\n",
       "    </tr>\n",
       "    <tr>\n",
       "      <th>449</th>\n",
       "      <td>NODE_55_length_9298_cov_13.604855_g19_i1_4759_...</td>\n",
       "      <td>Karenia-brevis-SP1-20130916|289615_1</td>\n",
       "      <td>33.7</td>\n",
       "      <td>1063</td>\n",
       "      <td>639</td>\n",
       "      <td>24</td>\n",
       "      <td>211</td>\n",
       "      <td>1237</td>\n",
       "      <td>3</td>\n",
       "      <td>1035</td>\n",
       "      <td>3.320000e-149</td>\n",
       "      <td>491.0</td>\n",
       "      <td>Eukaryota;Alveolata;Dinophyta;Dinophyceae;Dino...</td>\n",
       "    </tr>\n",
       "  </tbody>\n",
       "</table>\n",
       "</div>"
      ],
      "text/plain": [
       "                                                qseqid  \\\n",
       "227  NODE_26_length_11492_cov_18.457578_g19_i0_2_57...   \n",
       "231  NODE_14_length_13360_cov_26.370005_g9_i0_1698_...   \n",
       "301   NODE_42_length_9922_cov_24.243123_g4_i1_2_1073_-   \n",
       "442  NODE_55_length_9298_cov_13.604855_g19_i1_2_4708_-   \n",
       "449  NODE_55_length_9298_cov_13.604855_g19_i1_4759_...   \n",
       "\n",
       "                                   sseqid  pident  length  mismatch  gapopen  \\\n",
       "227  Karenia-brevis-SP1-20130916|289615_1    33.7    1063       639       24   \n",
       "231     Oxyrrhis-marina-20131105|151477_1    44.0     427       192        3   \n",
       "301   Karenia-brevis-SP1-20130916|45901_1    65.8     342       113        2   \n",
       "442  Karenia-brevis-SP1-20130916|289615_1    33.7    1063       639       24   \n",
       "449  Karenia-brevis-SP1-20130916|289615_1    33.7    1063       639       24   \n",
       "\n",
       "     qstart  qend  sstart  send         evalue  bitscore  \\\n",
       "227     628  1654       3  1035  1.010000e-146     491.0   \n",
       "231       1   427       1   380  2.230000e-109     341.0   \n",
       "301      20   357      93   434  1.080000e-159     464.0   \n",
       "442     267  1293       3  1035  8.550000e-149     491.0   \n",
       "449     211  1237       3  1035  3.320000e-149     491.0   \n",
       "\n",
       "                                              taxonomy  \n",
       "227  Eukaryota;Alveolata;Dinophyta;Dinophyceae;Dino...  \n",
       "231  Eukaryota;Alveolata;Dinophyta;Dinophyceae;Dino...  \n",
       "301  Eukaryota;Alveolata;Dinophyta;Dinophyceae;Dino...  \n",
       "442  Eukaryota;Alveolata;Dinophyta;Dinophyceae;Dino...  \n",
       "449  Eukaryota;Alveolata;Dinophyta;Dinophyceae;Dino...  "
      ]
     },
     "execution_count": 12,
     "metadata": {},
     "output_type": "execute_result"
    }
   ],
   "source": [
    "df_dino.head()"
   ]
  },
  {
   "cell_type": "markdown",
   "id": "5025dbb9",
   "metadata": {},
   "source": [
    "### Read in output of BWA mem (mapping reads to ORFs)"
   ]
  },
  {
   "cell_type": "code",
   "execution_count": 13,
   "id": "7082bda7",
   "metadata": {},
   "outputs": [],
   "source": [
    "#Start with a test example on just the sample at 40m depth\n",
    "\n",
    "sam_path = 'bwa_mem_nucleotide_files/30B8Z_S11_001_40m_mRNA_mapped_sorted.bam'\n",
    "\n",
    "#Use pysam to open the .bam file\n",
    "samfile = pysam.AlignmentFile(working_dir+sam_path, \"rb\")"
   ]
  },
  {
   "cell_type": "code",
   "execution_count": 14,
   "id": "12e914a8",
   "metadata": {},
   "outputs": [
    {
     "name": "stdout",
     "output_type": "stream",
     "text": [
      "IndexStats(contig='NODE_1_length_22561_cov_36.839973_g0_i0_72_1721_-', mapped=6, unmapped=0, total=6)\n"
     ]
    }
   ],
   "source": [
    "#index statistics -- gives us the number of reads mapped to each contig\n",
    "idx_stats = samfile.get_index_statistics()\n",
    "print(idx_stats[0])"
   ]
  },
  {
   "cell_type": "code",
   "execution_count": 15,
   "id": "aa5d0da6",
   "metadata": {},
   "outputs": [],
   "source": [
    "contigs = []\n",
    "mapped = []\n",
    "unmapped = []\n",
    "\n",
    "#\"Unravel\" list of index stats into individual lists of contig name, number of mapped and unmapped reads\n",
    "for contig_stat in idx_stats:\n",
    "    contigs.append(contig_stat.contig)\n",
    "    mapped.append(contig_stat.mapped)\n",
    "    unmapped.append(contig_stat.unmapped)"
   ]
  },
  {
   "cell_type": "code",
   "execution_count": 16,
   "id": "657fe519",
   "metadata": {},
   "outputs": [],
   "source": [
    "#Generate a dataframe from the index statistics\n",
    "ORF_read_counts = pd.DataFrame({'contig': contigs, 'mapped': mapped, 'unmapped': unmapped})\n",
    "\n",
    "#Ignore all contigs with no mapping hits\n",
    "ORF_read_counts = ORF_read_counts[ORF_read_counts['mapped'] != 0]"
   ]
  },
  {
   "cell_type": "code",
   "execution_count": 17,
   "id": "4a213adb",
   "metadata": {},
   "outputs": [],
   "source": [
    "# Join just dinoflagellates ORFs with all ORFs wth a read count of at least 1\n",
    "dino_ORF_reads = ORF_read_counts.join(df_dino.set_index('qseqid'), on='contig', how='inner')\n",
    "\n",
    "#Get reference length from BAM file\n",
    "dino_ORF_reads['reference_length'] = dino_ORF_reads['contig'].map(lambda x: samfile.get_reference_length(x))"
   ]
  },
  {
   "cell_type": "markdown",
   "id": "6c84b38b",
   "metadata": {},
   "source": [
    "### TPM calculation\n",
    "\n",
    "Defined as $TPM = \\frac{x_i}{l_i} \\times \\frac{1}{\\sum\\limits_{n}{\\frac{x_n}{l_n}}} \\times 10^6$\n",
    "\n",
    "First, we want to sum over all of the read counts normalized by contig length. Assigning that to `sum_x_over_l`, we can then multiply it by each read count normalized by contig length to get the transcripts per million used by Cohen et al. "
   ]
  },
  {
   "cell_type": "code",
   "execution_count": 18,
   "id": "bc3378b7",
   "metadata": {},
   "outputs": [],
   "source": [
    "sum_x_over_l = pd.DataFrame(dino_ORF_reads['mapped']/dino_ORF_reads['reference_length']).sum(axis=0).values[0]"
   ]
  },
  {
   "cell_type": "code",
   "execution_count": 19,
   "id": "9bf3f92c",
   "metadata": {},
   "outputs": [],
   "source": [
    "dino_ORF_reads['TPM'] = dino_ORF_reads['mapped']/dino_ORF_reads['reference_length']*(1/sum_x_over_l)*10**6"
   ]
  },
  {
   "cell_type": "code",
   "execution_count": 20,
   "id": "951133a4",
   "metadata": {},
   "outputs": [
    {
     "data": {
      "text/html": [
       "<div>\n",
       "<style scoped>\n",
       "    .dataframe tbody tr th:only-of-type {\n",
       "        vertical-align: middle;\n",
       "    }\n",
       "\n",
       "    .dataframe tbody tr th {\n",
       "        vertical-align: top;\n",
       "    }\n",
       "\n",
       "    .dataframe thead th {\n",
       "        text-align: right;\n",
       "    }\n",
       "</style>\n",
       "<table border=\"1\" class=\"dataframe\">\n",
       "  <thead>\n",
       "    <tr style=\"text-align: right;\">\n",
       "      <th></th>\n",
       "      <th>contig</th>\n",
       "      <th>sseqid</th>\n",
       "      <th>TPM</th>\n",
       "    </tr>\n",
       "  </thead>\n",
       "  <tbody>\n",
       "    <tr>\n",
       "      <th>241</th>\n",
       "      <td>NODE_26_length_11492_cov_18.457578_g19_i0_2_57...</td>\n",
       "      <td>Karenia-brevis-SP1-20130916|289615_1</td>\n",
       "      <td>19.788548</td>\n",
       "    </tr>\n",
       "    <tr>\n",
       "      <th>321</th>\n",
       "      <td>NODE_42_length_9922_cov_24.243123_g4_i1_2_1073_-</td>\n",
       "      <td>Karenia-brevis-SP1-20130916|45901_1</td>\n",
       "      <td>3.176910</td>\n",
       "    </tr>\n",
       "    <tr>\n",
       "      <th>470</th>\n",
       "      <td>NODE_55_length_9298_cov_13.604855_g19_i1_2_4708_-</td>\n",
       "      <td>Karenia-brevis-SP1-20130916|289615_1</td>\n",
       "      <td>8.630657</td>\n",
       "    </tr>\n",
       "    <tr>\n",
       "      <th>478</th>\n",
       "      <td>NODE_55_length_9298_cov_13.604855_g19_i1_4759_...</td>\n",
       "      <td>Karenia-brevis-SP1-20130916|289615_1</td>\n",
       "      <td>9.861188</td>\n",
       "    </tr>\n",
       "    <tr>\n",
       "      <th>490</th>\n",
       "      <td>NODE_51_length_9419_cov_15.559050_g34_i1_107_9...</td>\n",
       "      <td>Karenia-brevis-CCMP2229-20130916|270247_1</td>\n",
       "      <td>39.002140</td>\n",
       "    </tr>\n",
       "    <tr>\n",
       "      <th>...</th>\n",
       "      <td>...</td>\n",
       "      <td>...</td>\n",
       "      <td>...</td>\n",
       "    </tr>\n",
       "    <tr>\n",
       "      <th>2161693</th>\n",
       "      <td>NODE_1961248_length_86_cov_2.006369_g1954686_i...</td>\n",
       "      <td>MMETSP0796-20121207|30551_1</td>\n",
       "      <td>9.009648</td>\n",
       "    </tr>\n",
       "    <tr>\n",
       "      <th>2161878</th>\n",
       "      <td>NODE_1961696_length_80_cov_2.476821_g1955134_i...</td>\n",
       "      <td>MMETSP0784-20121206|7079_1</td>\n",
       "      <td>15.593622</td>\n",
       "    </tr>\n",
       "    <tr>\n",
       "      <th>2162074</th>\n",
       "      <td>NODE_1962484_length_71_cov_2.323944_g1955922_i...</td>\n",
       "      <td>Durinskia-baltica-CSIRO_CS-38-20140214|100697_1</td>\n",
       "      <td>7.051029</td>\n",
       "    </tr>\n",
       "    <tr>\n",
       "      <th>2162099</th>\n",
       "      <td>NODE_1962392_length_72_cov_2.405594_g1955830_i...</td>\n",
       "      <td>Karlodinium-micrum-CCMP2283-20140214|26356_1</td>\n",
       "      <td>7.051029</td>\n",
       "    </tr>\n",
       "    <tr>\n",
       "      <th>2162113</th>\n",
       "      <td>NODE_1962472_length_71_cov_2.464789_g1955910_i...</td>\n",
       "      <td>MMETSP0328-20130328|10738_1</td>\n",
       "      <td>3.525514</td>\n",
       "    </tr>\n",
       "  </tbody>\n",
       "</table>\n",
       "<p>187082 rows × 3 columns</p>\n",
       "</div>"
      ],
      "text/plain": [
       "                                                    contig  \\\n",
       "241      NODE_26_length_11492_cov_18.457578_g19_i0_2_57...   \n",
       "321       NODE_42_length_9922_cov_24.243123_g4_i1_2_1073_-   \n",
       "470      NODE_55_length_9298_cov_13.604855_g19_i1_2_4708_-   \n",
       "478      NODE_55_length_9298_cov_13.604855_g19_i1_4759_...   \n",
       "490      NODE_51_length_9419_cov_15.559050_g34_i1_107_9...   \n",
       "...                                                    ...   \n",
       "2161693  NODE_1961248_length_86_cov_2.006369_g1954686_i...   \n",
       "2161878  NODE_1961696_length_80_cov_2.476821_g1955134_i...   \n",
       "2162074  NODE_1962484_length_71_cov_2.323944_g1955922_i...   \n",
       "2162099  NODE_1962392_length_72_cov_2.405594_g1955830_i...   \n",
       "2162113  NODE_1962472_length_71_cov_2.464789_g1955910_i...   \n",
       "\n",
       "                                                  sseqid        TPM  \n",
       "241                 Karenia-brevis-SP1-20130916|289615_1  19.788548  \n",
       "321                  Karenia-brevis-SP1-20130916|45901_1   3.176910  \n",
       "470                 Karenia-brevis-SP1-20130916|289615_1   8.630657  \n",
       "478                 Karenia-brevis-SP1-20130916|289615_1   9.861188  \n",
       "490            Karenia-brevis-CCMP2229-20130916|270247_1  39.002140  \n",
       "...                                                  ...        ...  \n",
       "2161693                      MMETSP0796-20121207|30551_1   9.009648  \n",
       "2161878                       MMETSP0784-20121206|7079_1  15.593622  \n",
       "2162074  Durinskia-baltica-CSIRO_CS-38-20140214|100697_1   7.051029  \n",
       "2162099     Karlodinium-micrum-CCMP2283-20140214|26356_1   7.051029  \n",
       "2162113                      MMETSP0328-20130328|10738_1   3.525514  \n",
       "\n",
       "[187082 rows x 3 columns]"
      ]
     },
     "execution_count": 20,
     "metadata": {},
     "output_type": "execute_result"
    }
   ],
   "source": [
    "dino_ORF_reads[['contig', 'sseqid', 'TPM']]"
   ]
  },
  {
   "cell_type": "code",
   "execution_count": 22,
   "id": "02c4a613",
   "metadata": {},
   "outputs": [
    {
     "data": {
      "text/html": [
       "<div>\n",
       "<style scoped>\n",
       "    .dataframe tbody tr th:only-of-type {\n",
       "        vertical-align: middle;\n",
       "    }\n",
       "\n",
       "    .dataframe tbody tr th {\n",
       "        vertical-align: top;\n",
       "    }\n",
       "\n",
       "    .dataframe thead th {\n",
       "        text-align: right;\n",
       "    }\n",
       "</style>\n",
       "<table border=\"1\" class=\"dataframe\">\n",
       "  <thead>\n",
       "    <tr style=\"text-align: right;\">\n",
       "      <th></th>\n",
       "      <th>contig</th>\n",
       "      <th>mapped</th>\n",
       "      <th>unmapped</th>\n",
       "      <th>sseqid</th>\n",
       "      <th>pident</th>\n",
       "      <th>length</th>\n",
       "      <th>mismatch</th>\n",
       "      <th>gapopen</th>\n",
       "      <th>qstart</th>\n",
       "      <th>qend</th>\n",
       "      <th>sstart</th>\n",
       "      <th>send</th>\n",
       "      <th>evalue</th>\n",
       "      <th>bitscore</th>\n",
       "      <th>taxonomy</th>\n",
       "      <th>reference_length</th>\n",
       "      <th>TPM</th>\n",
       "    </tr>\n",
       "  </thead>\n",
       "  <tbody>\n",
       "    <tr>\n",
       "      <th>222031</th>\n",
       "      <td>NODE_143768_length_655_cov_670.049658_g137723_...</td>\n",
       "      <td>1789</td>\n",
       "      <td>0</td>\n",
       "      <td>at05685-at</td>\n",
       "      <td>57.7</td>\n",
       "      <td>201</td>\n",
       "      <td>85</td>\n",
       "      <td>0</td>\n",
       "      <td>2</td>\n",
       "      <td>202</td>\n",
       "      <td>6</td>\n",
       "      <td>206</td>\n",
       "      <td>6.380000e-66</td>\n",
       "      <td>216.0</td>\n",
       "      <td>Eukaryota;Alveolata;Dinophyta;Dinophyceae;Dino...</td>\n",
       "      <td>609</td>\n",
       "      <td>714.602683</td>\n",
       "    </tr>\n",
       "    <tr>\n",
       "      <th>32401</th>\n",
       "      <td>NODE_14066_length_1337_cov_805.969984_g4441_i3...</td>\n",
       "      <td>483</td>\n",
       "      <td>0</td>\n",
       "      <td>Symbiodinium-sp-CCMP2430-20130923|104772_1</td>\n",
       "      <td>100.0</td>\n",
       "      <td>55</td>\n",
       "      <td>0</td>\n",
       "      <td>0</td>\n",
       "      <td>1</td>\n",
       "      <td>55</td>\n",
       "      <td>1</td>\n",
       "      <td>55</td>\n",
       "      <td>1.180000e-30</td>\n",
       "      <td>108.0</td>\n",
       "      <td>Eukaryota;Alveolata;Dinophyta;Dinophyceae;Dino...</td>\n",
       "      <td>165</td>\n",
       "      <td>712.089827</td>\n",
       "    </tr>\n",
       "    <tr>\n",
       "      <th>140229</th>\n",
       "      <td>NODE_82534_length_781_cov_367.628169_g77357_i0...</td>\n",
       "      <td>1122</td>\n",
       "      <td>0</td>\n",
       "      <td>Symbiodinium-sp-C1-20140214|25803_1</td>\n",
       "      <td>91.8</td>\n",
       "      <td>257</td>\n",
       "      <td>21</td>\n",
       "      <td>0</td>\n",
       "      <td>1</td>\n",
       "      <td>257</td>\n",
       "      <td>88</td>\n",
       "      <td>344</td>\n",
       "      <td>7.740000e-181</td>\n",
       "      <td>507.0</td>\n",
       "      <td>Eukaryota;Alveolata;Dinophyta;Dinophyceae;Dino...</td>\n",
       "      <td>774</td>\n",
       "      <td>352.633438</td>\n",
       "    </tr>\n",
       "    <tr>\n",
       "      <th>233168</th>\n",
       "      <td>NODE_152913_length_642_cov_711.809107_g146803_...</td>\n",
       "      <td>925</td>\n",
       "      <td>0</td>\n",
       "      <td>Symbiodinium-sp-C1-20140214|25803_1</td>\n",
       "      <td>93.0</td>\n",
       "      <td>213</td>\n",
       "      <td>15</td>\n",
       "      <td>0</td>\n",
       "      <td>1</td>\n",
       "      <td>213</td>\n",
       "      <td>1</td>\n",
       "      <td>213</td>\n",
       "      <td>6.690000e-147</td>\n",
       "      <td>419.0</td>\n",
       "      <td>Eukaryota;Alveolata;Dinophyta;Dinophyceae;Dino...</td>\n",
       "      <td>639</td>\n",
       "      <td>352.137656</td>\n",
       "    </tr>\n",
       "    <tr>\n",
       "      <th>1186533</th>\n",
       "      <td>NODE_996022_length_311_cov_541.416667_g989460_...</td>\n",
       "      <td>394</td>\n",
       "      <td>0</td>\n",
       "      <td>at05419-at</td>\n",
       "      <td>93.2</td>\n",
       "      <td>103</td>\n",
       "      <td>7</td>\n",
       "      <td>0</td>\n",
       "      <td>1</td>\n",
       "      <td>103</td>\n",
       "      <td>14</td>\n",
       "      <td>116</td>\n",
       "      <td>6.120000e-66</td>\n",
       "      <td>202.0</td>\n",
       "      <td>Eukaryota;Alveolata;Dinophyta;Dinophyceae;Dino...</td>\n",
       "      <td>309</td>\n",
       "      <td>310.176818</td>\n",
       "    </tr>\n",
       "    <tr>\n",
       "      <th>...</th>\n",
       "      <td>...</td>\n",
       "      <td>...</td>\n",
       "      <td>...</td>\n",
       "      <td>...</td>\n",
       "      <td>...</td>\n",
       "      <td>...</td>\n",
       "      <td>...</td>\n",
       "      <td>...</td>\n",
       "      <td>...</td>\n",
       "      <td>...</td>\n",
       "      <td>...</td>\n",
       "      <td>...</td>\n",
       "      <td>...</td>\n",
       "      <td>...</td>\n",
       "      <td>...</td>\n",
       "      <td>...</td>\n",
       "      <td>...</td>\n",
       "    </tr>\n",
       "    <tr>\n",
       "      <th>14230</th>\n",
       "      <td>NODE_5127_length_1882_cov_4.823302_g4211_i0_48...</td>\n",
       "      <td>1</td>\n",
       "      <td>0</td>\n",
       "      <td>Symbiodinium-sp-C15-20130923|7961_1</td>\n",
       "      <td>90.1</td>\n",
       "      <td>609</td>\n",
       "      <td>60</td>\n",
       "      <td>0</td>\n",
       "      <td>3</td>\n",
       "      <td>611</td>\n",
       "      <td>2</td>\n",
       "      <td>610</td>\n",
       "      <td>0.000000e+00</td>\n",
       "      <td>1084.0</td>\n",
       "      <td>Eukaryota;Alveolata;Dinophyta;Dinophyceae;Dino...</td>\n",
       "      <td>1833</td>\n",
       "      <td>0.132712</td>\n",
       "    </tr>\n",
       "    <tr>\n",
       "      <th>13629</th>\n",
       "      <td>NODE_4558_length_1969_cov_4.565332_g3730_i0_3_...</td>\n",
       "      <td>1</td>\n",
       "      <td>0</td>\n",
       "      <td>MMETSP0795-20121207|7901_1</td>\n",
       "      <td>71.6</td>\n",
       "      <td>570</td>\n",
       "      <td>161</td>\n",
       "      <td>1</td>\n",
       "      <td>1</td>\n",
       "      <td>570</td>\n",
       "      <td>57</td>\n",
       "      <td>625</td>\n",
       "      <td>5.600000e-292</td>\n",
       "      <td>816.0</td>\n",
       "      <td>Eukaryota;Alveolata;Dinophyta;Syndiniales;Dino...</td>\n",
       "      <td>1896</td>\n",
       "      <td>0.128302</td>\n",
       "    </tr>\n",
       "    <tr>\n",
       "      <th>1222</th>\n",
       "      <td>NODE_183_length_6100_cov_9.477691_g126_i0_1591...</td>\n",
       "      <td>2</td>\n",
       "      <td>0</td>\n",
       "      <td>MMETSP0253-20130528|72244_1</td>\n",
       "      <td>30.2</td>\n",
       "      <td>1587</td>\n",
       "      <td>980</td>\n",
       "      <td>42</td>\n",
       "      <td>4</td>\n",
       "      <td>1493</td>\n",
       "      <td>281</td>\n",
       "      <td>1836</td>\n",
       "      <td>1.580000e-185</td>\n",
       "      <td>608.0</td>\n",
       "      <td>Eukaryota;Alveolata;Dinophyta;Dinophyceae;Dino...</td>\n",
       "      <td>4509</td>\n",
       "      <td>0.107900</td>\n",
       "    </tr>\n",
       "    <tr>\n",
       "      <th>1678</th>\n",
       "      <td>NODE_271_length_5332_cov_6.018628_g194_i0_103_...</td>\n",
       "      <td>1</td>\n",
       "      <td>0</td>\n",
       "      <td>MMETSP0795-20121207|5263_1</td>\n",
       "      <td>52.6</td>\n",
       "      <td>832</td>\n",
       "      <td>364</td>\n",
       "      <td>11</td>\n",
       "      <td>10</td>\n",
       "      <td>828</td>\n",
       "      <td>8</td>\n",
       "      <td>822</td>\n",
       "      <td>2.080000e-291</td>\n",
       "      <td>830.0</td>\n",
       "      <td>Eukaryota;Alveolata;Dinophyta;Syndiniales;Dino...</td>\n",
       "      <td>2487</td>\n",
       "      <td>0.097813</td>\n",
       "    </tr>\n",
       "    <tr>\n",
       "      <th>1686</th>\n",
       "      <td>NODE_271_length_5332_cov_6.018628_g194_i0_2708...</td>\n",
       "      <td>1</td>\n",
       "      <td>0</td>\n",
       "      <td>MMETSP0795-20121207|5263_1</td>\n",
       "      <td>52.6</td>\n",
       "      <td>832</td>\n",
       "      <td>364</td>\n",
       "      <td>11</td>\n",
       "      <td>22</td>\n",
       "      <td>840</td>\n",
       "      <td>8</td>\n",
       "      <td>822</td>\n",
       "      <td>3.200000e-291</td>\n",
       "      <td>830.0</td>\n",
       "      <td>Eukaryota;Alveolata;Dinophyta;Syndiniales;Dino...</td>\n",
       "      <td>2523</td>\n",
       "      <td>0.096417</td>\n",
       "    </tr>\n",
       "  </tbody>\n",
       "</table>\n",
       "<p>187082 rows × 17 columns</p>\n",
       "</div>"
      ],
      "text/plain": [
       "                                                    contig  mapped  unmapped  \\\n",
       "222031   NODE_143768_length_655_cov_670.049658_g137723_...    1789         0   \n",
       "32401    NODE_14066_length_1337_cov_805.969984_g4441_i3...     483         0   \n",
       "140229   NODE_82534_length_781_cov_367.628169_g77357_i0...    1122         0   \n",
       "233168   NODE_152913_length_642_cov_711.809107_g146803_...     925         0   \n",
       "1186533  NODE_996022_length_311_cov_541.416667_g989460_...     394         0   \n",
       "...                                                    ...     ...       ...   \n",
       "14230    NODE_5127_length_1882_cov_4.823302_g4211_i0_48...       1         0   \n",
       "13629    NODE_4558_length_1969_cov_4.565332_g3730_i0_3_...       1         0   \n",
       "1222     NODE_183_length_6100_cov_9.477691_g126_i0_1591...       2         0   \n",
       "1678     NODE_271_length_5332_cov_6.018628_g194_i0_103_...       1         0   \n",
       "1686     NODE_271_length_5332_cov_6.018628_g194_i0_2708...       1         0   \n",
       "\n",
       "                                             sseqid  pident  length  mismatch  \\\n",
       "222031                                   at05685-at    57.7     201        85   \n",
       "32401    Symbiodinium-sp-CCMP2430-20130923|104772_1   100.0      55         0   \n",
       "140229          Symbiodinium-sp-C1-20140214|25803_1    91.8     257        21   \n",
       "233168          Symbiodinium-sp-C1-20140214|25803_1    93.0     213        15   \n",
       "1186533                                  at05419-at    93.2     103         7   \n",
       "...                                             ...     ...     ...       ...   \n",
       "14230           Symbiodinium-sp-C15-20130923|7961_1    90.1     609        60   \n",
       "13629                    MMETSP0795-20121207|7901_1    71.6     570       161   \n",
       "1222                    MMETSP0253-20130528|72244_1    30.2    1587       980   \n",
       "1678                     MMETSP0795-20121207|5263_1    52.6     832       364   \n",
       "1686                     MMETSP0795-20121207|5263_1    52.6     832       364   \n",
       "\n",
       "         gapopen  qstart  qend  sstart  send         evalue  bitscore  \\\n",
       "222031         0       2   202       6   206   6.380000e-66     216.0   \n",
       "32401          0       1    55       1    55   1.180000e-30     108.0   \n",
       "140229         0       1   257      88   344  7.740000e-181     507.0   \n",
       "233168         0       1   213       1   213  6.690000e-147     419.0   \n",
       "1186533        0       1   103      14   116   6.120000e-66     202.0   \n",
       "...          ...     ...   ...     ...   ...            ...       ...   \n",
       "14230          0       3   611       2   610   0.000000e+00    1084.0   \n",
       "13629          1       1   570      57   625  5.600000e-292     816.0   \n",
       "1222          42       4  1493     281  1836  1.580000e-185     608.0   \n",
       "1678          11      10   828       8   822  2.080000e-291     830.0   \n",
       "1686          11      22   840       8   822  3.200000e-291     830.0   \n",
       "\n",
       "                                                  taxonomy  reference_length  \\\n",
       "222031   Eukaryota;Alveolata;Dinophyta;Dinophyceae;Dino...               609   \n",
       "32401    Eukaryota;Alveolata;Dinophyta;Dinophyceae;Dino...               165   \n",
       "140229   Eukaryota;Alveolata;Dinophyta;Dinophyceae;Dino...               774   \n",
       "233168   Eukaryota;Alveolata;Dinophyta;Dinophyceae;Dino...               639   \n",
       "1186533  Eukaryota;Alveolata;Dinophyta;Dinophyceae;Dino...               309   \n",
       "...                                                    ...               ...   \n",
       "14230    Eukaryota;Alveolata;Dinophyta;Dinophyceae;Dino...              1833   \n",
       "13629    Eukaryota;Alveolata;Dinophyta;Syndiniales;Dino...              1896   \n",
       "1222     Eukaryota;Alveolata;Dinophyta;Dinophyceae;Dino...              4509   \n",
       "1678     Eukaryota;Alveolata;Dinophyta;Syndiniales;Dino...              2487   \n",
       "1686     Eukaryota;Alveolata;Dinophyta;Syndiniales;Dino...              2523   \n",
       "\n",
       "                TPM  \n",
       "222031   714.602683  \n",
       "32401    712.089827  \n",
       "140229   352.633438  \n",
       "233168   352.137656  \n",
       "1186533  310.176818  \n",
       "...             ...  \n",
       "14230      0.132712  \n",
       "13629      0.128302  \n",
       "1222       0.107900  \n",
       "1678       0.097813  \n",
       "1686       0.096417  \n",
       "\n",
       "[187082 rows x 17 columns]"
      ]
     },
     "execution_count": 22,
     "metadata": {},
     "output_type": "execute_result"
    }
   ],
   "source": [
    "dino_ORF_reads.sort_values(by='TPM', ascending=False)"
   ]
  },
  {
   "cell_type": "markdown",
   "id": "8dc3ddc7",
   "metadata": {},
   "source": [
    "### Full script below to process each sample and merge into one dataframe"
   ]
  },
  {
   "cell_type": "code",
   "execution_count": 23,
   "id": "587b7edc",
   "metadata": {},
   "outputs": [],
   "source": [
    "sam_paths = ['bwa_mem_nucleotide_files/30B8Z_S11_001_40m_mRNA_mapped_sorted.bam', \n",
    "             'bwa_mem_nucleotide_files/30B91_S28_001_380m_mRNA_mapped_sorted.bam',\n",
    "            'bwa_mem_nucleotide_files/30B90_S12_001_70m_mRNA_mapped_sorted.bam']"
   ]
  },
  {
   "cell_type": "code",
   "execution_count": 24,
   "id": "713c6420",
   "metadata": {},
   "outputs": [],
   "source": [
    "i=0\n",
    "\n",
    "for path in sam_paths:\n",
    "    samfile = pysam.AlignmentFile(working_dir+path, \"rb\")\n",
    "    sample_id = path.split('/')[1].split('_mRNA')[0]\n",
    "    \n",
    "    idx_stats = samfile.get_index_statistics()\n",
    "    \n",
    "    contigs = []\n",
    "    mapped = []\n",
    "    unmapped = []\n",
    "\n",
    "    for contig_stat in idx_stats:\n",
    "        contigs.append(contig_stat.contig)\n",
    "        mapped.append(contig_stat.mapped)\n",
    "        unmapped.append(contig_stat.unmapped)\n",
    "        \n",
    "    ORF_read_counts = pd.DataFrame({'contig': contigs, 'mapped': mapped, 'unmapped': unmapped})\n",
    "\n",
    "    #Ignore all contigs with no mapping hits\n",
    "    ORF_read_counts = ORF_read_counts[ORF_read_counts['mapped'] != 0]\n",
    "    \n",
    "    dino_ORF_reads = ORF_read_counts.join(df_dino.set_index('qseqid'), on='contig', how='inner')\n",
    "\n",
    "    #Get reference length from BAM file\n",
    "    dino_ORF_reads['reference_length'] = dino_ORF_reads['contig'].map(lambda x: samfile.get_reference_length(x))\n",
    "    \n",
    "    sum_x_over_l = pd.DataFrame(dino_ORF_reads['mapped']/dino_ORF_reads['reference_length']).sum(axis=0).values[0]\n",
    "    \n",
    "    dino_ORF_reads['TPM'] = dino_ORF_reads['mapped']/dino_ORF_reads['reference_length']*(1/sum_x_over_l)*10**6\n",
    "    \n",
    "    if i == 0:\n",
    "        output_df = dino_ORF_reads[['contig', 'TPM']]\n",
    "        output_df = output_df.rename({'TPM': 'TPM_'+ sample_id}, axis=1)\n",
    "    else:\n",
    "        output_df = output_df.join(dino_ORF_reads[['contig', 'TPM']].set_index('contig'), how='outer', on='contig')\n",
    "    output_df = output_df.rename({'TPM': 'TPM_'+ sample_id}, axis=1)\n",
    "    \n",
    "    i+=1 "
   ]
  },
  {
   "cell_type": "code",
   "execution_count": 25,
   "id": "8bb6217f",
   "metadata": {},
   "outputs": [],
   "source": [
    "# Change NaNs to 0s for calculation\n",
    "output_df[['TPM_30B8Z_S11_001_40m', 'TPM_30B91_S28_001_380m', 'TPM_30B90_S12_001_70m']] = output_df[['TPM_30B8Z_S11_001_40m', 'TPM_30B91_S28_001_380m', 'TPM_30B90_S12_001_70m']].fillna(0)"
   ]
  },
  {
   "cell_type": "code",
   "execution_count": 26,
   "id": "5702350a",
   "metadata": {},
   "outputs": [
    {
     "data": {
      "text/html": [
       "<div>\n",
       "<style scoped>\n",
       "    .dataframe tbody tr th:only-of-type {\n",
       "        vertical-align: middle;\n",
       "    }\n",
       "\n",
       "    .dataframe tbody tr th {\n",
       "        vertical-align: top;\n",
       "    }\n",
       "\n",
       "    .dataframe thead th {\n",
       "        text-align: right;\n",
       "    }\n",
       "</style>\n",
       "<table border=\"1\" class=\"dataframe\">\n",
       "  <thead>\n",
       "    <tr style=\"text-align: right;\">\n",
       "      <th></th>\n",
       "      <th>contig</th>\n",
       "      <th>TPM_30B8Z_S11_001_40m</th>\n",
       "      <th>TPM_30B91_S28_001_380m</th>\n",
       "      <th>TPM_30B90_S12_001_70m</th>\n",
       "    </tr>\n",
       "  </thead>\n",
       "  <tbody>\n",
       "    <tr>\n",
       "      <th>241.0</th>\n",
       "      <td>NODE_26_length_11492_cov_18.457578_g19_i0_2_57...</td>\n",
       "      <td>19.788548</td>\n",
       "      <td>1.390007</td>\n",
       "      <td>1.850755</td>\n",
       "    </tr>\n",
       "    <tr>\n",
       "      <th>321.0</th>\n",
       "      <td>NODE_42_length_9922_cov_24.243123_g4_i1_2_1073_-</td>\n",
       "      <td>3.176910</td>\n",
       "      <td>9.333768</td>\n",
       "      <td>5.880087</td>\n",
       "    </tr>\n",
       "    <tr>\n",
       "      <th>470.0</th>\n",
       "      <td>NODE_55_length_9298_cov_13.604855_g19_i1_2_4708_-</td>\n",
       "      <td>8.630657</td>\n",
       "      <td>1.524978</td>\n",
       "      <td>1.707436</td>\n",
       "    </tr>\n",
       "    <tr>\n",
       "      <th>478.0</th>\n",
       "      <td>NODE_55_length_9298_cov_13.604855_g19_i1_4759_...</td>\n",
       "      <td>9.861188</td>\n",
       "      <td>0.910516</td>\n",
       "      <td>1.319295</td>\n",
       "    </tr>\n",
       "    <tr>\n",
       "      <th>490.0</th>\n",
       "      <td>NODE_51_length_9419_cov_15.559050_g34_i1_107_9...</td>\n",
       "      <td>39.002140</td>\n",
       "      <td>3.153441</td>\n",
       "      <td>3.198434</td>\n",
       "    </tr>\n",
       "  </tbody>\n",
       "</table>\n",
       "</div>"
      ],
      "text/plain": [
       "                                                  contig  \\\n",
       "241.0  NODE_26_length_11492_cov_18.457578_g19_i0_2_57...   \n",
       "321.0   NODE_42_length_9922_cov_24.243123_g4_i1_2_1073_-   \n",
       "470.0  NODE_55_length_9298_cov_13.604855_g19_i1_2_4708_-   \n",
       "478.0  NODE_55_length_9298_cov_13.604855_g19_i1_4759_...   \n",
       "490.0  NODE_51_length_9419_cov_15.559050_g34_i1_107_9...   \n",
       "\n",
       "       TPM_30B8Z_S11_001_40m  TPM_30B91_S28_001_380m  TPM_30B90_S12_001_70m  \n",
       "241.0              19.788548                1.390007               1.850755  \n",
       "321.0               3.176910                9.333768               5.880087  \n",
       "470.0               8.630657                1.524978               1.707436  \n",
       "478.0               9.861188                0.910516               1.319295  \n",
       "490.0              39.002140                3.153441               3.198434  "
      ]
     },
     "execution_count": 26,
     "metadata": {},
     "output_type": "execute_result"
    }
   ],
   "source": [
    "output_df.head()"
   ]
  },
  {
   "cell_type": "markdown",
   "id": "901a7234",
   "metadata": {},
   "source": [
    "### Bringing in the KEGG annotation data for making Figure 3"
   ]
  },
  {
   "cell_type": "code",
   "execution_count": 27,
   "id": "da3553e3",
   "metadata": {},
   "outputs": [],
   "source": [
    "kegg_file = '/vortexfs1/omics/env-bio/collaboration/dinoflagellates_METZYME/data/metaT_trimmed_reads/fasta_files/paired/mRNA/KEGG_annotation/' \\\n",
    "            'dino_metzyme_annotated_coassembly_KEGG_annotation.txt'"
   ]
  },
  {
   "cell_type": "code",
   "execution_count": 28,
   "id": "015f01d0",
   "metadata": {},
   "outputs": [],
   "source": [
    "top_50_genes = '/vortexfs1/omics/env-bio/collaboration/dinoflagellates_METZYME/data/metaT_trimmed_reads/fasta_files/paired/mRNA/KEGG_annotation/' \\\n",
    "            'top_50_kegg_genes.txt'\n",
    "file = open(top_50_genes, 'r')\n",
    "top_KOs = file.read().splitlines()"
   ]
  },
  {
   "cell_type": "code",
   "execution_count": 29,
   "id": "5b7dac70",
   "metadata": {},
   "outputs": [],
   "source": [
    "columns = ['Query', 'KO']\n",
    "kegg_df = pd.read_csv(kegg_file, sep='\\t', names=columns)"
   ]
  },
  {
   "cell_type": "markdown",
   "id": "1a1e1dbc",
   "metadata": {},
   "source": [
    "### Need to incorporate KOG and Pfam annotations"
   ]
  },
  {
   "cell_type": "code",
   "execution_count": 30,
   "id": "698968d7",
   "metadata": {},
   "outputs": [],
   "source": [
    "hmmer_dir = '/vortexfs1/omics/env-bio/collaboration/dinoflagellates_METZYME/data/metaT_trimmed_reads/fasta_files/paired/mRNA/hmmer_output/'\n",
    "kog_file = hmmer_dir + 'dino_metzyme_annotated_coassembly_KOG2348_out'"
   ]
  },
  {
   "cell_type": "code",
   "execution_count": 31,
   "id": "a36156ae",
   "metadata": {},
   "outputs": [],
   "source": [
    "ISIP2A_file = hmmer_dir + 'dino_metzyme_annotated_coassembly_low_iron_inducible_periplasmic_protein_out'\n",
    "ISIP3_file = hmmer_dir + 'dino_metzyme_annotated_coassembly_iron_storage_protein_out'\n",
    "PF01036_file = hmmer_dir + 'dino_metzyme_annotated_coassembly_proteorhodopsin_out'"
   ]
  },
  {
   "cell_type": "code",
   "execution_count": 32,
   "id": "c56cb593",
   "metadata": {},
   "outputs": [],
   "source": [
    "# These should be the same for all hmmer output -- first rows are just metadata, \n",
    "# and then skipping the row that just has dashes to separate the header from the data\n",
    "\n",
    "skip_rows_list = [i for i in range(14)]\n",
    "skip_rows_list += [15]\n",
    "\n",
    "#Requires some manual analysis to identify where the relevant rows end, because it depends on the e-value\n",
    "#we chose and how many fall below that. Would be nice to automate this if possible\n",
    "\n",
    "KOG_2348 = pd.read_csv(kog_file, sep='\\s+', skiprows=skip_rows_list, nrows=248)"
   ]
  },
  {
   "cell_type": "code",
   "execution_count": 33,
   "id": "499c1706",
   "metadata": {},
   "outputs": [],
   "source": [
    "skip_rows_list = [i for i in range(13)]\n",
    "skip_rows_list += [14]\n",
    "\n",
    "ISIP2A = pd.read_csv(ISIP2A_file, sep='\\s+', skiprows=skip_rows_list, nrows=343)"
   ]
  },
  {
   "cell_type": "code",
   "execution_count": 34,
   "id": "823e6edd",
   "metadata": {},
   "outputs": [],
   "source": [
    "skip_rows_list = [i for i in range(13)]\n",
    "skip_rows_list += [14]\n",
    "\n",
    "ISIP3 = pd.read_csv(ISIP3_file, sep='\\s+', skiprows=skip_rows_list, nrows=45)"
   ]
  },
  {
   "cell_type": "code",
   "execution_count": 35,
   "id": "56d50f60",
   "metadata": {},
   "outputs": [
    {
     "name": "stderr",
     "output_type": "stream",
     "text": [
      "/tmp/ipykernel_235383/1843089003.py:2: SettingWithCopyWarning: \n",
      "A value is trying to be set on a copy of a slice from a DataFrame.\n",
      "Try using .loc[row_indexer,col_indexer] = value instead\n",
      "\n",
      "See the caveats in the documentation: https://pandas.pydata.org/pandas-docs/stable/user_guide/indexing.html#returning-a-view-versus-a-copy\n",
      "  isip3_df['function'] = 'ISIP_3'\n"
     ]
    }
   ],
   "source": [
    "isip3_df = ISIP3[['Sequence']]\n",
    "isip3_df['function'] = 'ISIP_3'"
   ]
  },
  {
   "cell_type": "code",
   "execution_count": 36,
   "id": "292882f6",
   "metadata": {},
   "outputs": [],
   "source": [
    "skip_rows_list = [i for i in range(13)]\n",
    "skip_rows_list += [14]\n",
    "\n",
    "PF01036 = pd.read_csv(PF01036_file, sep='\\s+', skiprows=skip_rows_list, nrows=1140)"
   ]
  },
  {
   "cell_type": "code",
   "execution_count": 37,
   "id": "02221ca9",
   "metadata": {
    "scrolled": true
   },
   "outputs": [
    {
     "name": "stderr",
     "output_type": "stream",
     "text": [
      "/tmp/ipykernel_235383/1520715355.py:2: SettingWithCopyWarning: \n",
      "A value is trying to be set on a copy of a slice from a DataFrame.\n",
      "Try using .loc[row_indexer,col_indexer] = value instead\n",
      "\n",
      "See the caveats in the documentation: https://pandas.pydata.org/pandas-docs/stable/user_guide/indexing.html#returning-a-view-versus-a-copy\n",
      "  kog_df['function'] = 'KOG2348'\n",
      "/tmp/ipykernel_235383/1520715355.py:5: SettingWithCopyWarning: \n",
      "A value is trying to be set on a copy of a slice from a DataFrame.\n",
      "Try using .loc[row_indexer,col_indexer] = value instead\n",
      "\n",
      "See the caveats in the documentation: https://pandas.pydata.org/pandas-docs/stable/user_guide/indexing.html#returning-a-view-versus-a-copy\n",
      "  proteorhodopsin_df['function'] = 'PF01036'\n",
      "/tmp/ipykernel_235383/1520715355.py:8: SettingWithCopyWarning: \n",
      "A value is trying to be set on a copy of a slice from a DataFrame.\n",
      "Try using .loc[row_indexer,col_indexer] = value instead\n",
      "\n",
      "See the caveats in the documentation: https://pandas.pydata.org/pandas-docs/stable/user_guide/indexing.html#returning-a-view-versus-a-copy\n",
      "  isip2a_df['function'] = 'pti:PHATRDRAFT_54465'\n",
      "/tmp/ipykernel_235383/1520715355.py:11: SettingWithCopyWarning: \n",
      "A value is trying to be set on a copy of a slice from a DataFrame.\n",
      "Try using .loc[row_indexer,col_indexer] = value instead\n",
      "\n",
      "See the caveats in the documentation: https://pandas.pydata.org/pandas-docs/stable/user_guide/indexing.html#returning-a-view-versus-a-copy\n",
      "  isip3_df['function'] = 'pti:PHATRDRAFT_47674'\n"
     ]
    }
   ],
   "source": [
    "kog_df = KOG_2348[['Sequence']]\n",
    "kog_df['function'] = 'KOG2348'\n",
    "\n",
    "proteorhodopsin_df = PF01036[['Sequence']]\n",
    "proteorhodopsin_df['function'] = 'PF01036'\n",
    "\n",
    "isip2a_df = ISIP2A[['Sequence']]\n",
    "isip2a_df['function'] = 'pti:PHATRDRAFT_54465'\n",
    "\n",
    "isip3_df = ISIP3[['Sequence']]\n",
    "isip3_df['function'] = 'pti:PHATRDRAFT_47674'\n",
    "\n",
    "added_function_df = pd.concat([kog_df, proteorhodopsin_df ,isip2a_df, isip3_df])"
   ]
  },
  {
   "cell_type": "code",
   "execution_count": 38,
   "id": "09d53105",
   "metadata": {},
   "outputs": [],
   "source": [
    "#Joining both taxonomy and functional annotation in the same dataframe\n",
    "\n",
    "tax_func_df = output_df.join(kegg_df.set_index('Query'), on='contig', how='left')\n",
    "tax_func_df = tax_func_df.join(added_function_df.set_index('Sequence'), on='contig', how='left')\n",
    "\n",
    "tax_func_df = tax_func_df.reset_index(drop=True)"
   ]
  },
  {
   "cell_type": "code",
   "execution_count": 39,
   "id": "e13d295f",
   "metadata": {},
   "outputs": [],
   "source": [
    "ko_summed = tax_func_df[tax_func_df['KO'].isin(top_KOs)].groupby('KO').sum()\n",
    "ko_summed.reset_index(inplace=True)\n",
    "ko_summed = ko_summed.rename({'KO': 'functional_annotation'}, axis=1)"
   ]
  },
  {
   "cell_type": "code",
   "execution_count": 40,
   "id": "c8628856",
   "metadata": {},
   "outputs": [],
   "source": [
    "other_func_summed = tax_func_df[~tax_func_df['function'].isnull()].groupby('function').sum()\n",
    "other_func_summed.reset_index(inplace=True)\n",
    "other_func_summed = other_func_summed.rename({'function': 'functional_annotation'}, axis=1)"
   ]
  },
  {
   "cell_type": "code",
   "execution_count": 41,
   "id": "2f7cdffc",
   "metadata": {},
   "outputs": [],
   "source": [
    "top_50_df = pd.concat([ko_summed, other_func_summed])\n",
    "top_50_df = top_50_df.set_index('functional_annotation')"
   ]
  },
  {
   "cell_type": "code",
   "execution_count": 42,
   "id": "e41c551e",
   "metadata": {},
   "outputs": [],
   "source": [
    "# Figure out if any genes in Cohen et al's top 50 list were not identified with KEGG, KOG or Pfam annotations\n",
    "missing_KOs = np.array(top_KOs)[~np.array([KO in top_50_df.index for KO in top_KOs])]\n",
    "\n",
    "missing_dict = {}\n",
    "missing_dict['functional_assignment'] = missing_KOs\n",
    "for col in top_50_df.columns:\n",
    "    missing_dict[col] = np.repeat(np.nan, len(missing_KOs))\n",
    "    \n",
    "top_50_df = pd.concat([top_50_df, pd.DataFrame(missing_dict).set_index('functional_assignment')])\n",
    "\n",
    "#Sort according to same list as in original paper\n",
    "top_50_df = top_50_df.loc[top_KOs]"
   ]
  },
  {
   "cell_type": "code",
   "execution_count": 43,
   "id": "2bcd0531",
   "metadata": {},
   "outputs": [],
   "source": [
    "top_50_df_log_norm = top_50_df[['TPM_30B8Z_S11_001_40m', 'TPM_30B91_S28_001_380m', \n",
    "                                'TPM_30B90_S12_001_70m']].apply(lambda x: np.log2(x + 1))\n",
    "\n",
    "n = top_50_df_log_norm.shape[0]"
   ]
  },
  {
   "cell_type": "code",
   "execution_count": 44,
   "id": "1b05f706",
   "metadata": {},
   "outputs": [],
   "source": [
    "z_score_40 = (top_50_df_log_norm['TPM_30B8Z_S11_001_40m'] - \n",
    "              top_50_df_log_norm.mean(axis=1))/(top_50_df_log_norm.std(axis=1))\n",
    "z_score_70 = (top_50_df_log_norm['TPM_30B90_S12_001_70m'] - \n",
    "              top_50_df_log_norm.mean(axis=1))/(top_50_df_log_norm.std(axis=1))\n",
    "z_score_380 = (top_50_df_log_norm['TPM_30B91_S28_001_380m'] - \n",
    "               top_50_df_log_norm.mean(axis=1))/(top_50_df_log_norm.std(axis=1))\n"
   ]
  },
  {
   "cell_type": "code",
   "execution_count": 45,
   "id": "7482b4e4",
   "metadata": {},
   "outputs": [],
   "source": [
    "test1 = np.concatenate([z_score_40.values.reshape(n, 1), z_score_70.values.reshape(n, 1), z_score_380.values.reshape(n, 1)], axis=1)"
   ]
  },
  {
   "cell_type": "code",
   "execution_count": 46,
   "id": "641f1697",
   "metadata": {},
   "outputs": [],
   "source": [
    "# test1 = np.concatenate([((np.log2(ko_summed['TPM_30B8Z_S11_001_40m'].values + 1) - \n",
    "#                          np.log2(ko_summed.mean(axis=1).values))/(np.log2(ko_summed.std(axis=1).values))).reshape((n, 1)),\n",
    "#                        ((np.log2(ko_summed['TPM_30B90_S12_001_70m'].values + 1) - \n",
    "#                          np.log2(ko_summed.mean(axis=1).values))/(np.log2(ko_summed.std(axis=1).values))).reshape((n, 1)), \n",
    "#                        ((np.log2(ko_summed['TPM_30B91_S28_001_380m'].values + 1) - \n",
    "#                          np.log2(ko_summed.mean(axis=1).values))/(np.log2(ko_summed.std(axis=1).values))).reshape((n, 1))], axis=1)\n"
   ]
  },
  {
   "cell_type": "code",
   "execution_count": 47,
   "id": "178d9fca",
   "metadata": {},
   "outputs": [],
   "source": [
    "labels = top_KOs"
   ]
  },
  {
   "cell_type": "code",
   "execution_count": 48,
   "id": "34d68b5c",
   "metadata": {},
   "outputs": [
    {
     "data": {
      "image/png": "[encoded data removed]",
      "text/plain": [
       "<Figure size 144x1152 with 2 Axes>"
      ]
     },
     "metadata": {
      "needs_background": "light"
     },
     "output_type": "display_data"
    }
   ],
   "source": [
    "fig, ax = plt.subplots(figsize = (2, 16))\n",
    "cb = sns.heatmap(test1, linecolor='gray', linewidth=0.5, cmap='viridis', yticklabels=labels, \n",
    "                 cbar_kws={\"orientation\": \"horizontal\", \"pad\": 0.03})\n",
    "#ax.yaxis.set(ticks=np.arange(0.5, len(labels)), ticklabels=labels);"
   ]
  },
  {
   "cell_type": "markdown",
   "id": "84a9073b",
   "metadata": {},
   "source": [
    "### Want to add functional annotations in addition to the gene names"
   ]
  },
  {
   "cell_type": "code",
   "execution_count": 49,
   "id": "069e1440",
   "metadata": {},
   "outputs": [],
   "source": [
    "kegg_dir = '/vortexfs1/omics/env-bio/collaboration/dinoflagellates_METZYME/databases/KEGG/'\n",
    "ko_txt = 'ko_list'"
   ]
  },
  {
   "cell_type": "code",
   "execution_count": 50,
   "id": "56cdab0a",
   "metadata": {},
   "outputs": [],
   "source": [
    "ko_list_df = pd.read_csv(kegg_dir + ko_txt, sep='\\t')\n",
    "ko_list_df = ko_list_df.set_index('knum')\n",
    "ko_list_df = ko_list_df[['definition']]"
   ]
  },
  {
   "cell_type": "code",
   "execution_count": 51,
   "id": "c10854e0",
   "metadata": {},
   "outputs": [],
   "source": [
    "# Get proteins in top 50 list that don't have KEGG annotations (i.e., because they are not from the KEGG database)\n",
    "missing_annot = np.array(top_KOs)[~np.array([KO in ko_list_df.index for KO in top_KOs])]\n",
    "present_annot = np.array(top_KOs)[np.array([KO in ko_list_df.index for KO in top_KOs])]"
   ]
  },
  {
   "cell_type": "code",
   "execution_count": 52,
   "id": "41de859c",
   "metadata": {},
   "outputs": [],
   "source": [
    "top_annot = ko_list_df.loc[present_annot]\n",
    "top_annot = top_annot['definition'].str.split('[', expand=True)[[0]]\n",
    "top_annot = top_annot.rename({0: 'definition'}, axis=1)"
   ]
  },
  {
   "cell_type": "code",
   "execution_count": 53,
   "id": "e9c0599f",
   "metadata": {},
   "outputs": [
    {
     "name": "stdout",
     "output_type": "stream",
     "text": [
      "['PF01036' 'pti:PHATRDRAFT_47674' 'pti:PHATRDRAFT_54465' 'KOG2348'\n",
      " 'K07977']\n"
     ]
    }
   ],
   "source": [
    "## Manually adding in the missing annotations, because they were also done that way in the original paper\n",
    "print(missing_annot)\n",
    "annot_dict = {'name': missing_annot, 'definition': ['proteorhodopsin', 'ISIP3', \n",
    "                                                    'ISIP2A', 'Urea transporter', 'Arf/Sar family, other']}\n",
    "top_annot = pd.concat([top_annot, pd.DataFrame(annot_dict).set_index('name')])\n",
    "top_annot = top_annot.loc[top_KOs]\n",
    "labels = (top_annot['definition'].str.capitalize() +' (' + top_annot.index + ')').values"
   ]
  },
  {
   "cell_type": "code",
   "execution_count": 54,
   "id": "59369ab9",
   "metadata": {},
   "outputs": [
    {
     "data": {
      "image/png": "[encoded data removed]",
      "text/plain": [
       "<Figure size 108x1296 with 2 Axes>"
      ]
     },
     "metadata": {
      "needs_background": "light"
     },
     "output_type": "display_data"
    }
   ],
   "source": [
    "fig, ax = plt.subplots(figsize = (1.5, 18))\n",
    "\n",
    "custom_palette = sns.color_palette(\"YlGnBu\", 9)\n",
    "\n",
    "cb = sns.heatmap(test1, linecolor='gray', linewidth=0.5, cmap=\"YlGnBu\", vmin=-2, vmax=2, yticklabels=labels, \n",
    "                 cbar_kws={\"orientation\": \"horizontal\", \"pad\": 0.03})\n",
    "\n",
    "\n",
    "ax.yaxis.set_label_position(\"right\")\n",
    "ax.yaxis.tick_right()\n",
    "ax.tick_params(axis='y', rotation=0)\n",
    "\n",
    "#ax.yaxis.set(ticks=np.arange(0.5, len(labels)), ticklabels=labels);"
   ]
  },
  {
   "cell_type": "code",
   "execution_count": null,
   "id": "7586f3de",
   "metadata": {},
   "outputs": [],
   "source": []
  },
  {
   "cell_type": "code",
   "execution_count": null,
   "id": "55010e92",
   "metadata": {},
   "outputs": [],
   "source": []
  }
 ],
 "metadata": {
  "kernelspec": {
   "display_name": "Python 3 (ipykernel)",
   "language": "python",
   "name": "python3"
  },
  "language_info": {
   "codemirror_mode": {
    "name": "ipython",
    "version": 3
   },
   "file_extension": ".py",
   "mimetype": "text/x-python",
   "name": "python",
   "nbconvert_exporter": "python",
   "pygments_lexer": "ipython3",
   "version": "3.10.0"
  }
 },
 "nbformat": 4,
 "nbformat_minor": 5
}
