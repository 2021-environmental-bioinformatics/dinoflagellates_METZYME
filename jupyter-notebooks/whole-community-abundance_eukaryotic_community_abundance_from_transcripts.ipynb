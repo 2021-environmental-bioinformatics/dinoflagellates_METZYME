{
 "cells": [
  {
   "cell_type": "markdown",
   "id": "5933b410",
   "metadata": {},
   "source": [
    "### Plotting whole-community abundance and eukaryotic community abundance from metatranscriptomic analysis"
   ]
  },
  {
   "cell_type": "code",
   "execution_count": 1,
   "id": "58de0375",
   "metadata": {},
   "outputs": [],
   "source": [
    "import glob\n",
    "import os\n",
    "import pandas as pd\n",
    "import pysam\n",
    "import re\n",
    "import matplotlib.pyplot as plt\n",
    "import seaborn as sns"
   ]
  },
  {
   "cell_type": "code",
   "execution_count": 2,
   "id": "041016c6",
   "metadata": {},
   "outputs": [],
   "source": [
    "working_dir = '/vortexfs1/omics/env-bio/collaboration/dinoflagellates_METZYME/data/' \\\n",
    "            'metaT_trimmed_reads/fasta_files/paired/mRNA/whole_community_transcripts/'"
   ]
  },
  {
   "cell_type": "code",
   "execution_count": 3,
   "id": "ed2a194e",
   "metadata": {},
   "outputs": [],
   "source": [
    "wc_categories = ['Bacteroidetes', 'Alphaproteobacteria', 'Betaproteobacteria', 'Deltaproteobacteria', \n",
    "                 'Gammaproteobacteria', 'Other proteobacteria', 'Other bacteria', 'Archaea', 'Prochlorococcus', \n",
    "                 'Synechococcus', 'Other cyanobacteria', 'Chlorophyta', 'Cryptophyta', 'Diatom', \n",
    "                 'Other stramenopiles', 'Dinophyta', 'Haptophyta', 'Amoebozoa', 'Ciliophora', 'Excavata', 'Fungi', \n",
    "                 'Metazoa', 'Other eukaryotes', 'Rhizaria', 'Viruses']"
   ]
  },
  {
   "cell_type": "code",
   "execution_count": 4,
   "id": "bbc7e4b3",
   "metadata": {},
   "outputs": [],
   "source": [
    "taxonomy_files = glob.glob(working_dir + '*')"
   ]
  },
  {
   "cell_type": "markdown",
   "id": "9b334f2d",
   "metadata": {},
   "source": [
    "#### Interpreting relative community abundance as the fraction of original reads that mapped to a given phylum, super group, etc. relative to the total number of reads. \n",
    "In the paper, they use a combination of phylum, supergroup, genus and other taxonomic classifications, depending on what's present and interesting, so we have used the exact same breakdown, as opposed to a straight phylum-only breakdown or other approach.\n",
    "\n",
    "To do this, we want to use the output of the BWA alignment to get the number of reads that correspond to an individual contig, then sum at the individual levels to get a total number of reads for each classification. Using a similar approach to `TPM_normalization_and_plotting.ipynb`, but we are not normalizing by gene length because we're not looking at individual gene expression."
   ]
  },
  {
   "cell_type": "code",
   "execution_count": 5,
   "id": "88d47185",
   "metadata": {},
   "outputs": [],
   "source": [
    "### Already have taxon_df generated from before"
   ]
  },
  {
   "cell_type": "code",
   "execution_count": 6,
   "id": "563eb6b5",
   "metadata": {},
   "outputs": [],
   "source": [
    "bam_paths = ['../bwa_mem_nucleotide_files/30B8Z_S11_001_40m_mRNA_mapped_sorted.bam',\n",
    "            '../bwa_mem_nucleotide_files/30B90_S12_001_70m_mRNA_mapped_sorted.bam',\n",
    "            '../bwa_mem_nucleotide_files/30B91_S28_001_380m_mRNA_mapped_sorted.bam']"
   ]
  },
  {
   "cell_type": "code",
   "execution_count": 7,
   "id": "a854ce3f",
   "metadata": {},
   "outputs": [],
   "source": [
    "def join_read_counts(df_taxon, bam_path):\n",
    "    # This function takes in the location of bam files and a dataframe with contig and taxonomy info\n",
    "    # and returns the same dataframe with read counts added\n",
    "    samfile = pysam.AlignmentFile(working_dir+path, \"rb\")\n",
    "    sample_id = path.split('/')[1].split('_mRNA')[0]\n",
    "\n",
    "    idx_stats = samfile.get_index_statistics()\n",
    "\n",
    "    contigs = []\n",
    "    mapped = []\n",
    "    unmapped = []\n",
    "\n",
    "    for contig_stat in idx_stats:\n",
    "        contigs.append(contig_stat.contig)\n",
    "        mapped.append(contig_stat.mapped)\n",
    "        unmapped.append(contig_stat.unmapped)\n",
    "\n",
    "    ORF_read_counts = pd.DataFrame({'contig': contigs, 'mapped': mapped, 'unmapped': unmapped})\n",
    "\n",
    "    #Ignore all contigs with no mapping hits\n",
    "    ORF_read_counts = ORF_read_counts[ORF_read_counts['mapped'] != 0]\n",
    "\n",
    "    taxon_ORF_reads = ORF_read_counts.join(df_taxon.set_index('qseqid'), on='contig', how='inner')\n",
    "\n",
    "    return taxon_ORF_reads"
   ]
  },
  {
   "cell_type": "code",
   "execution_count": null,
   "id": "c92ee12e",
   "metadata": {},
   "outputs": [
    {
     "name": "stdout",
     "output_type": "stream",
     "text": [
      "40m\n",
      "Other_cyanobacteria\n",
      "Rhizaria\n",
      "Betaproteobacteria\n",
      "Fungi\n",
      "Amoebozoa\n",
      "Other_stramenopiles\n",
      "Deltaproteobacteria\n",
      "Archaea\n",
      "Viruses\n",
      "Alphaproteobacteria\n",
      "Other_proteobacteria\n",
      "Bacteroidetes\n",
      "Dinophyta\n",
      "Other_eukaryotes\n",
      "Haptophyta\n",
      "Prochlorococcus\n",
      "Cryptophyta\n",
      "Gammaproteobacteria\n",
      "Excavata\n",
      "Metazoa\n",
      "Other_bacteria\n",
      "Ciliophora\n",
      "Chlorophyta\n",
      "Diatom\n",
      "Synechococcus\n",
      "70m\n",
      "Other_cyanobacteria\n",
      "Rhizaria\n",
      "Betaproteobacteria\n"
     ]
    }
   ],
   "source": [
    "abundance_dict = {}\n",
    "\n",
    "for path in bam_paths:\n",
    "    \n",
    "    #Use regex to get the name of the site\n",
    "    sample_name = re.search('[0-9]{2,3}m', path)[0]\n",
    "    print(sample_name)\n",
    "    \n",
    "    sample_abundance_dict = {}\n",
    "\n",
    "    for file in taxonomy_files:\n",
    "        #Get just the name of the classification, which is the very end of the file i.e. .../transcripts_Rhizaria.tsv\n",
    "        name = re.search('transcripts_.*.tsv', file)[0].split('transcripts_')[1].split('.tsv')[0]\n",
    "        print(name)\n",
    "        #Read in data\n",
    "        taxon_df = pd.read_csv(file, sep='\\t')\n",
    "        #Do mapping with original reads\n",
    "        temp_df = join_read_counts(taxon_df, path)\n",
    "        #Calculate \"abundance\" as the sum of total reads mapped to the group\n",
    "        abundance = temp_df['mapped'].sum()\n",
    "        #Add to a dictionary\n",
    "        sample_abundance_dict[name] = abundance\n",
    "    \n",
    "    abundance_dict[sample_name] = sample_abundance_dict\n",
    "    "
   ]
  },
  {
   "cell_type": "code",
   "execution_count": null,
   "id": "eb096898",
   "metadata": {},
   "outputs": [],
   "source": [
    "abundance_df = pd.DataFrame(abundance_dict)"
   ]
  },
  {
   "cell_type": "code",
   "execution_count": null,
   "id": "f79e028d",
   "metadata": {},
   "outputs": [],
   "source": [
    "abundance_df.index = abundance_df.index.str.replace('_', ' ')\n",
    "abundance_df = abundance_df.loc[wc_categories] #sort similar to original plot"
   ]
  },
  {
   "cell_type": "code",
   "execution_count": null,
   "id": "91e25502",
   "metadata": {},
   "outputs": [],
   "source": [
    "rel_abundance_df = abundance_df*100/abundance_df.sum()\n",
    "#Add prefix to identify it as station 9\n",
    "rel_abundance_df = rel_abundance_df.add_prefix('9_')\n",
    "rel_abundance_df.index = rel_abundance_df.index.str.capitalize()"
   ]
  },
  {
   "cell_type": "code",
   "execution_count": null,
   "id": "400773be",
   "metadata": {},
   "outputs": [],
   "source": [
    "df_len = rel_abundance_df.shape[0]"
   ]
  },
  {
   "cell_type": "code",
   "execution_count": null,
   "id": "31ec2923",
   "metadata": {},
   "outputs": [],
   "source": [
    "custom_palette = sns.color_palette(\"tab20b\", df_len).as_hex()"
   ]
  },
  {
   "cell_type": "code",
   "execution_count": null,
   "id": "3875e96c",
   "metadata": {},
   "outputs": [],
   "source": [
    "sns.set()\n",
    "\n",
    "fig, ax = plt.subplots(figsize = (6, 8))\n",
    "rel_abundance_df.transpose().plot.bar(stacked='True', ax=ax, color=custom_palette)\n",
    "ax.legend(loc='center left', bbox_to_anchor=(1, 0.5))\n",
    "plt.xlabel('Site depth')\n",
    "plt.ylabel('Percent')"
   ]
  },
  {
   "cell_type": "markdown",
   "id": "ff099779",
   "metadata": {},
   "source": [
    "### Filtering for eukaryotes only (Fig. 1b)"
   ]
  },
  {
   "cell_type": "code",
   "execution_count": null,
   "id": "8489db2f",
   "metadata": {},
   "outputs": [],
   "source": [
    "colors = ['#B2DF8A', '#CAB2D6', '#FDBF6F', '#FFFF99', '#1F78B4', '#E7298A', \n",
    "         '#1B9E77', '#D95F02', \"#7570B3\", '#E6AB02', '#66A61E']\n",
    "\n",
    "#Trying to use similar colors to similar plot made from 18S data"
   ]
  },
  {
   "cell_type": "code",
   "execution_count": null,
   "id": "4251b451",
   "metadata": {},
   "outputs": [],
   "source": [
    "euks = ['Rhizaria', 'Fungi', 'Amoebozoa', 'Other stramenopiles', 'Diatom', 'Other eukaryotes', 'Dinophyta',\n",
    "        'Haptophyta', 'Excavata', 'Metazoa', 'Ciliophora', 'Cryptophyta', 'Chlorophyta']\n",
    "euks.sort() #sort alphabetically"
   ]
  },
  {
   "cell_type": "code",
   "execution_count": null,
   "id": "9975a64a",
   "metadata": {},
   "outputs": [],
   "source": [
    "euk_abundance_df = abundance_df.loc[euks]\n",
    "rel_abundance_df = euk_abundance_df*100/euk_abundance_df.sum()\n",
    "#Add prefix to identify it as station 9\n",
    "rel_abundance_df = rel_abundance_df.add_prefix('9_')\n",
    "rel_abundance_df.index = rel_abundance_df.index.str.capitalize()"
   ]
  },
  {
   "cell_type": "code",
   "execution_count": null,
   "id": "6fd7ddbe",
   "metadata": {},
   "outputs": [],
   "source": [
    "sns.set()\n",
    "\n",
    "fig, ax = plt.subplots(figsize = (6, 8))\n",
    "rel_abundance_df.transpose().plot.bar(stacked='True', ax=ax, color=colors)\n",
    "ax.legend(loc='center left', bbox_to_anchor=(1, 0.5))\n",
    "plt.xlabel('Site depth')\n",
    "plt.ylabel('Percent')"
   ]
  }
 ],
 "metadata": {
  "kernelspec": {
   "display_name": "Python 3 (ipykernel)",
   "language": "python",
   "name": "python3"
  },
  "language_info": {
   "codemirror_mode": {
    "name": "ipython",
    "version": 3
   },
   "file_extension": ".py",
   "mimetype": "text/x-python",
   "name": "python",
   "nbconvert_exporter": "python",
   "pygments_lexer": "ipython3",
   "version": "3.10.0"
  }
 },
 "nbformat": 4,
 "nbformat_minor": 5
}
