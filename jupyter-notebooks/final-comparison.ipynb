{
 "cells": [
  {
   "cell_type": "markdown",
   "id": "427303b7",
   "metadata": {},
   "source": [
    "# Final comparison notebook\n",
    "\n",
    "This notebook performs a comparison between the original data and the reanalyzed output\n",
    "\n",
    "### [Original paper](https://www.nature.com/articles/s41564-020-00814-7.pdf?proof=t): "
   ]
  },
  {
   "cell_type": "markdown",
   "id": "48ac72f1",
   "metadata": {},
   "source": [
    "![Cat](images/paper_title.png)"
   ]
  },
  {
   "cell_type": "markdown",
   "id": "4a729496",
   "metadata": {},
   "source": [
    "We chose to use two figures (five subplots) from this paper to assess the similarity and reproducibility of the original paper compared to our reanalyzed approach. These were Figure 1 (subplot (b), which plots the eukaryotic community abundance from both 16S rRNA and metatranscriptomic data, and subplot (c), which plots the the whole-community abundance with 18S and transcripts) and Figure 3 (a heat map of differential gene expression across the different stations and depths sampled). We also looked at a few other metrics referenced in the original paper, such as their list of the top 50 genes with differential variable expression and the number of contigs associated with taxonomic and functional assignments.\n",
    "\n",
    "To scale the analysis, we looked only at samples from Station 9, which were taken from 3 different depths: 40 meters, 70 meters and 380 meters. This was chosen to aid with comparison, because the paper investigates how dinoflagellate community structure and gene expression varies with depth, as well as with surface gradients in nutrients. However, we reproduced the full analysis pipeline on these three samples, which required separately processing 16S and 18S rRNA reads and the metatranscriptomic sequences. "
   ]
  },
  {
   "cell_type": "code",
   "execution_count": 1,
   "id": "4ce3ab9c",
   "metadata": {},
   "outputs": [],
   "source": [
    "#### Add additional introduction here? Should we say more about the original paper and what they found?"
   ]
  },
  {
   "cell_type": "markdown",
   "id": "2a4aa4a9",
   "metadata": {},
   "source": [
    "### Figure 1b) Eukaryotic community abundance from 18S and transcripts:\n",
    "\n",
    "Cohen et. al (2021) used both metatranscriptomic and 18S rRNA sequencing to capture the eukaryotic relative community abundance across different stations and depths in the central Pacific. We reproduced their approach, with some deviations from the bioinformatics pipeline. For the 18S rRNA, this entailed taxonomically classifying the raw reads with `mothur` (while the original paper used FASTA36), subsampling 2,500 reads per sample, and calculating relative abundance as a function of how many subsampled reads were recruited to a particular taxon. For the transcripts, we performed a co-assembly after removing the rRNA transcripts, predicted Open Reading Frames (ORFs) from FragGeneScan, mapped the raw reads to the ORFs and assigned taxonomy with Diamond. We filtered only for eukaryotic taxa. Community abundance was calculated as the percentage of original reads that were recruited to a particular taxon. We differed from the Cohen et. al (2021) pipeline in the choice of programs used to remove the rRNA transcripts and assign taxonomy, but used the same database (PhyloDB). "
   ]
  },
  {
   "cell_type": "markdown",
   "id": "47f4a9d1",
   "metadata": {},
   "source": [
    "| 18S rRNA |  Transcripts \n",
    "|:-------:|:---------:|\n",
    "|<img src=\"images/18S_community_abundance_plot.png\" width=\"500\" />  |  <img src=\"images/transcripts_eukaryotic_community_abundance_plot.png\" width=\"500\" />|"
   ]
  },
  {
   "cell_type": "markdown",
   "id": "2a393887",
   "metadata": {},
   "source": [
    "<img src=\"images/Cohen_eukaryotic_community_abundance.png\" width=\"500\" /> "
   ]
  },
  {
   "cell_type": "markdown",
   "id": "4e9e691a",
   "metadata": {},
   "source": [
    "On the left is our plot of the relative abundance from 18S and on the right is our plot from transcripts; below is the original plot of both. The 18S sequencing approach makes it possible to perform a finer-scale classification of the community than with metatranscriptomics. On a broad level, it is clear that dinoflagellates dominate the relative abundance in both our plots and the original paper. Cohen et al. found that  69 ± 11% of transcriptomic read counts were assigned to dinoflagellates, while we found dinoflagellates comprised 59 ± 3% of read counts. We can also see that the community composition at 70m and 380m is very similar, but differs slightly at the 40m site, including a higher percentage of dinoflagellates and haptophyta.  \n",
    "\n",
    "From the 18S plots, we see a reduction in the percentage of dinoflagellates relative to other taxa plotted. Interestingly, the trend of relatively more dinoflagellates near the surface from the transcript plots is reversed in both ours and the original analysis, which likely says something about differential transcriptional processes near the surface (?). There is a higher percentage of Chlorophyta and diatoms near the surface in both plots, as well as higher abundance of other stramenopiles compared to other taxa. However, our analysis classified far more reads as \"other eukaryota\", which is a catch-all for any eukaryotes not specifically listed here (i.e., they were identified but not included in the categories Cohen et al chose to highlight).\n",
    "\n",
    "There are several factors that likely led to the differences between our figures and the original paper's. While we used the same databases for the taxonomic classification, we used different programs (mothur vs. FASTA36 and Diamond vs. BlastP), and we also used different tools for the co-assembly (we used RNASPAdes because the original approach, CLC Assembly Cell, is closed-source). In addition, no parameters were supplied for most of the pipeline, so we generally chose to use default parameters for consistency. These small deviations in algorithms and parameters, when amplified throughout the whole pipeline, could lead to substantial variations in the final result. Additionally, we subsampled 2500 sequences for the 18S analysis, but the original samples had between 6000 and 11000 sequences, which will affect the output. "
   ]
  },
  {
   "cell_type": "markdown",
   "id": "e7906910",
   "metadata": {},
   "source": [
    "### Figure 1c) Whole community abundance from 16S and transcripts:\n",
    "\n",
    "The pipeline for producing these plots was similar to the approach used for eukaryotic community abundance. We used Kraken2 to taxonomically classify the 16S rRNA sequences (Cohen et al. used FASTA36 again), and also used mothur to separate out plastid sequences within the 16S, which represent eukaryotic lineages. We subsampled 6,000 sequences from the non-plastid 16S rRNA data and used those to calculate relative abundance. Instead of filtering the metatranscriptomic data for eukaryotes, we visualized taxa from all domains, using the same breakdown of taxa that Cohen et al. used. "
   ]
  },
  {
   "cell_type": "markdown",
   "id": "c1812cf6",
   "metadata": {},
   "source": [
    "| 16S rRNA |  Transcripts \n",
    "|:-------:|:---------:|\n",
    "|<img src=\"images/16S_old_designation_deltaproteobacteria.png\" width=\"600\" />  |  <img src=\"images/transcripts_whole_community_abundance_plot.png\" width=\"600\" />|"
   ]
  },
  {
   "cell_type": "markdown",
   "id": "bdfd86c0",
   "metadata": {},
   "source": [
    "<img src=\"images/Cohen_whole_community_abundance.png\" width=\"500\" />"
   ]
  },
  {
   "cell_type": "markdown",
   "id": "af7895a7",
   "metadata": {},
   "source": [
    "Again, on the left is our plot of the whole-community relative abundance from 16S and on the right is our plot from transcripts; below is the original plot of both.\n",
    "\n",
    "From both 16S plots, we see a high relative abundance of Prochloroccus at 40 and 380 meters, which is reduced at 70 meters. We also see higher Gammaproteobacteria at depth (70m, 380m) and higher alphaproteobacteria at 70m. However, they see a differentially higher abundance of Bacteroidetes at 70 meters relative to surface and deep samples, while we see an increasing trend with depth. \"Other bacteria\" (i.e., any bacteria not already in the categories listed) also differs between our plots and theirs. \n",
    "\n",
    "The transcript plots also bear a strong resemblance in terms of large-scale trends. We see relatively constant bacteroidetes abundance across all three depths, higher gammaproteobacteria and \"other bacteria\" at 70 and 380 meters, greater prochloroccus near the surface, and a large number of dinoflagellates at all sites even in the whole community abundance plots. This was actually pretty surprising to see and a satisfying indication that even though our pipeline actually differed the most from theirs for the metatranscriptomic analysis, their results were reproducible. \n",
    "\n",
    "Again, the differences are likely due to the choice of algorithms and parameters. The paper doesn't describe how they separated plastids, so we used mothur again to search against [PR2](https://pr2-database.org/post/news/2019-08-08-version-4.12/), which includes data from the PhytoRef database that was originally used. We also used Kraken2 instead of FASTA36 to taxonomically classify the 16S sequences, and used the SILVA rRNA database release 132 instead of release 111, because the latter was not available. Lastly, for this analysis we also took a subsample of 6,000 sequences each from the 16S samples, which each originally had between 15,000 and 20,000 sequences. Although we used a random shuffle approach, we are not guaranteed to get the same distribution of taxa with our sequences as the original paper."
   ]
  },
  {
   "cell_type": "markdown",
   "id": "2b166a2d",
   "metadata": {},
   "source": [
    "### Figure 3) Heatmap displaying TPM-normalized gene expression:\n",
    "\n",
    "To generate this heat map of gene expression, we started with the ORFs predicted from the metatranscriptomic co-assembly (using FragGeneScan) and assigned function using the online web server tool GhostKOALA, which performs annotation of KEGG genes. We also did a manual annotation with HMMER of four genes in their heat map that weren't included in the KEGG database: KOG gene 2348, which is a urea transporter, Pfam family PF01036 (proteorhodopsin), and iron starvation induced proteins (ISIPs) ISIP2a and ISIP3. We used the BWA alignment to map reads to ORFs and calculated transcripts per million (TPM) by dividing the read count by the ORF length and normalizing by this quantity across all ORFs. ORFs with the same taxonomic and functional assignment were summed together. We then calculated the log2-normalized z-score as $\\frac{log_2(TPM) - mean(log_2(TPM))}{std(log_2(TPM))}$, with the mean and standard deviation calculated across samples for the same gene. Lastly, we plotted the z-score for the top 50 genes identified by the original analysis with highest transcript deviations from the mean. "
   ]
  },
  {
   "cell_type": "markdown",
   "id": "43973d32",
   "metadata": {},
   "source": [
    "| Our plot |  Cohen plot \n",
    "|:-------:|:---------:|\n",
    "|<img src=\"images/transcripts_heat_map.png\" width=\"500\" />  |  <img src=\"images/Cohen_transcript_heat_map.png\" width=\"500\" />|"
   ]
  },
  {
   "cell_type": "markdown",
   "id": "3d52258f",
   "metadata": {},
   "source": [
    "Again, we can study both the high-level similarities between the two figures and the more fine-scale differences. We see for both figures that the samples from 70 meters and 380 meters seem to cluster together with respect to differential expression, representing the \"deep\" conditions, and in many cases a gene of interest is up(down)regulated between the surface and deep communities. This is particularly interesting because in most of the other stations and depths they looked at, samples at 70m and 380m do not tend to group together, but station 9 at 380m appears to be an outlier compared with the other deeper samples. Looking at Figure 3 in Cohen et al. (2021), it's clear that although the samples at 70 m and 380 m represent a \"deeper\" community than the samples at 40 m, they do not cluster with the deepest samples between 200 meters and 600 meters, which differ much more significantly in gene expression from the surface.\n",
    "\n",
    "In their figure, the first subsection represents genes that are upregulated in the surface community, and we see a similar trend in our plot, with the exception of an uncharacterized protein (K07004). The difference between the surface sample and deeper samples is much more pronounced in our heat map than theirs, although the color scales are different, which would mute some of the differences in their plot.\n",
    "\n",
    "We also see differentially higher expression at depth in the second subsection of the plot, which is particularly notable for glycine amidinotransferase (K00613) and phagocytosis-related genes including cathepsin proteases. Although Cohen et al. found that tubulin alpha was generally upregulated in the deep communities, the reverse trend is present here in these three samples in both figures. \n",
    "\n",
    "We did not identify ORFs belonging to two genes (K10896) and (K07977) that were present in their plot, and K07977 was not in the KEGG database we had access to. \n",
    "\n",
    "Besides the differences in the pipeline that are common to all three sets of figures that we chose to reproduce (i.e. difference in parameters and algorithms), we also see some differences that come out of our decision to only look at three depths from one station. To identify meaningful differences in gene expression, it makes sense to analyze samples across a range of depths and locations, and use the z-score to identify genes that deviate from the mean for certain samples. Because we only have three samples, everything is normalized by a much smaller subset (i.e. standard deviation of 3 samples, as opposed to 42 samples). We chose to make this heat map with the original paper's top 50 KEGG annotated genes, rather than the top 50 that fell out of our analysis, to facilitate comparison, but we do not generate the same list of genes with the highest deviation in our analysis (see below). "
   ]
  },
  {
   "cell_type": "markdown",
   "id": "a8385538",
   "metadata": {},
   "source": [
    "## Other metrics:"
   ]
  },
  {
   "cell_type": "markdown",
   "id": "4711b7a0",
   "metadata": {},
   "source": [
    "### Top 50 most variable genes\n",
    "\n",
    "One difference in our analysis of differential gene expression is that we used the paper's original list of top 50 KEGG-annotated genes, as opposed to generating our own from our data. This made sense for intercomparison, because we expect our list to be quite different, as we would be calculating it from the variance on a much smaller subset of data. However, it is interesting to explore:"
   ]
  },
  {
   "cell_type": "code",
   "execution_count": 131,
   "id": "c972fb3c",
   "metadata": {},
   "outputs": [],
   "source": [
    "import pandas as pd\n",
    "import numpy as np"
   ]
  },
  {
   "cell_type": "code",
   "execution_count": 132,
   "id": "136932cd",
   "metadata": {},
   "outputs": [],
   "source": [
    "TPM_df = pd.read_csv('/vortexfs1/omics/env-bio/collaboration/dinoflagellates_METZYME/output/' \\\n",
    "                   'transcripts_functional_assignment_TPM.csv', index_col=0)"
   ]
  },
  {
   "cell_type": "code",
   "execution_count": 82,
   "id": "f7069a7a",
   "metadata": {},
   "outputs": [],
   "source": [
    "TPM_df_groupby = TPM_df.groupby('KO').sum()\n",
    "\n",
    "TPM_df_log_norm = TPM_df_groupby[['TPM_30B8Z_S11_001_40m', 'TPM_30B91_S28_001_380m', \n",
    "                                'TPM_30B90_S12_001_70m']].apply(lambda x: np.log2(x + 1))\n",
    "\n",
    "n = TPM_df_log_norm.shape[0]"
   ]
  },
  {
   "cell_type": "markdown",
   "id": "1dd31456",
   "metadata": {},
   "source": [
    "In the paper, the authors determine the top 50 KEGG-annotated genes as the genes with \"the highest transcript deviations from the mean (variances) across samples.\" We did the same, calculating the standard deviation of the log transformed TPM for each gene across the three samples (because without the log transformation, more highly expressed genes will have a higher variance), and then took the 50 highest values after sorting."
   ]
  },
  {
   "cell_type": "code",
   "execution_count": 133,
   "id": "af6c9571",
   "metadata": {},
   "outputs": [],
   "source": [
    "TPM_df_log_norm['variance'] = TPM_df_log_norm[['TPM_30B8Z_S11_001_40m','TPM_30B91_S28_001_380m', \n",
    "                             'TPM_30B90_S12_001_70m']].std(axis=1)\n",
    "\n",
    "top_genes = list(TPM_df_log_norm.sort_values(by='variance', ascending=False).head(50).index)"
   ]
  },
  {
   "cell_type": "markdown",
   "id": "2fb29750",
   "metadata": {},
   "source": [
    "#### Reading in their original list"
   ]
  },
  {
   "cell_type": "code",
   "execution_count": 110,
   "id": "405de71d",
   "metadata": {},
   "outputs": [],
   "source": [
    "top_50_genes = '/vortexfs1/omics/env-bio/collaboration/dinoflagellates_METZYME/data/metaT_trimmed_reads/' \\\n",
    "                'fasta_files/paired/mRNA/KEGG_annotation/top_50_kegg_genes.txt'\n",
    "file = open(top_50_genes, 'r')\n",
    "top_KOs = file.read().splitlines()"
   ]
  },
  {
   "cell_type": "code",
   "execution_count": 106,
   "id": "6d4dee49",
   "metadata": {},
   "outputs": [
    {
     "name": "stdout",
     "output_type": "stream",
     "text": [
      "The number of genes that overlap between the two lists is []\n"
     ]
    }
   ],
   "source": [
    "print(\"The number of genes that overlap between the two lists is\", list(set(top_KOs) & set(top_genes)))"
   ]
  },
  {
   "cell_type": "markdown",
   "id": "d4a1ea8c",
   "metadata": {},
   "source": [
    "There is no overlap between our list of top 50 most variable genes and theirs. This is actually not that surprising, though, as we saw in the TPM heat map that samples from all depths at station 9 tend to cluster closer in similarity to the near-surface samples, so our analysis is identifying highly variable genes within an already similar set of samples."
   ]
  },
  {
   "cell_type": "markdown",
   "id": "67f70fdf",
   "metadata": {},
   "source": [
    "### Number of sequences assigned a taxonomic or functional assignment\n",
    "\n",
    "Want to discuss differences in number of sequences assigned a taxonomic or functional assignment, as well as the top KEGG genes annotated through their method vs ours. \n",
    "\n",
    "Also, show Sabrina's plots of 16S with deltaproteobacteria split up into additional distinctions -- comment on how taxonmoy and phylogeny are constantly changing as we discover new relationships between species, new functions etc that cause us to rethink our old classifications. This can also lead to discrepancies between databases -- for example, harder in PhyloDB to extract these new phyla, which hasn't been updated since 2015."
   ]
  },
  {
   "cell_type": "code",
   "execution_count": 142,
   "id": "9f77943d",
   "metadata": {},
   "outputs": [
    {
     "name": "stdout",
     "output_type": "stream",
     "text": [
      "Number of taxonomically classified ORFs:  720464\n"
     ]
    }
   ],
   "source": [
    "# Same TSV file generated in metaT_taxonomy.ipynb\n",
    "\n",
    "all_ORFs = '/vortexfs1/omics/env-bio/collaboration/dinoflagellates_METZYME/data/metaT_trimmed_reads/' \\\n",
    "                'fasta_files/paired/mRNA/diamond_output/dino_metzyme_annotated_coassembly_diamond_out_taxonomy.tsv'\n",
    "\n",
    "df_ORFs = pd.read_csv(all_ORFs, sep='\\t', header=0, index_col=0)\n",
    "\n",
    "print(\"Number of taxonomically classified ORFs: \", df_ORFs.shape[0])"
   ]
  },
  {
   "cell_type": "markdown",
   "id": "8e1b862b",
   "metadata": {},
   "source": [
    "We had 2162147 ORFs predicted from our co-assembly, but only 720464 of them were taxonomically classified. That comes out to about 33%, while the paper was able to associate 62% of the ORFs with a taxonomic classification. That is likely due to differences in the way the co-assembly and classification were performed (as we used different tools, discussed above), as well as differences in parameters chosen. The only parameter ever specified in the paper was an e-value cut-off of $10^{-3}$ for BLASTp, and a difference in the leniency of parameters chosen could affect the number contigs that were classified.  "
   ]
  },
  {
   "cell_type": "code",
   "execution_count": 143,
   "id": "e509693d",
   "metadata": {},
   "outputs": [],
   "source": [
    "number_of_dino_contigs = TPM_df.shape[0]\n",
    "\n",
    "number_of_functional_assignments = np.sum(~(TPM_df['KO'].isnull()) & TPM_df['function_from_KOG_or_Pfam'].isnull())"
   ]
  },
  {
   "cell_type": "code",
   "execution_count": 147,
   "id": "0249ba64",
   "metadata": {},
   "outputs": [
    {
     "name": "stdout",
     "output_type": "stream",
     "text": [
      "Percentage of functional assignments to dinoflagellate ORFs is 26.556566962919252 percent\n"
     ]
    }
   ],
   "source": [
    "print(\"Percentage of functional assignments to dinoflagellate ORFs is\", \n",
    "      number_of_functional_assignments*100/number_of_dino_contigs, \"percent\")"
   ]
  },
  {
   "cell_type": "markdown",
   "id": "0a3d1b81",
   "metadata": {},
   "source": [
    "We saw something similar with gene function, where only 26% of our contigs were associated with a functional assignment, vs. the 54% reported in the paper. However, we only searched our contigs against the KEGG database and a handful of Pfam families and 1 KOG gene, due to time-out issues with HMMER. Adding the results of that search would likely increase the number of contigs with a functional assignment."
   ]
  },
  {
   "cell_type": "markdown",
   "id": "f7260fad",
   "metadata": {},
   "source": [
    "#### A note about deltaproteobacteria\n",
    "\n",
    "Since this paper was published, scientists have proposed reclassifying the phylum Deltaprotebacteria into four novel phylum-level lineages. We have included the plot of 16S bacterial community abundances using this new classification instead."
   ]
  },
  {
   "cell_type": "markdown",
   "id": "178cfedd",
   "metadata": {},
   "source": [
    "<img src=\"images/16S_new_designation_deltaproteobacteria.png\" width=\"500\" />"
   ]
  }
 ],
 "metadata": {
  "kernelspec": {
   "display_name": "Python 3 (ipykernel)",
   "language": "python",
   "name": "python3"
  },
  "language_info": {
   "codemirror_mode": {
    "name": "ipython",
    "version": 3
   },
   "file_extension": ".py",
   "mimetype": "text/x-python",
   "name": "python",
   "nbconvert_exporter": "python",
   "pygments_lexer": "ipython3",
   "version": "3.10.0"
  }
 },
 "nbformat": 4,
 "nbformat_minor": 5
}
