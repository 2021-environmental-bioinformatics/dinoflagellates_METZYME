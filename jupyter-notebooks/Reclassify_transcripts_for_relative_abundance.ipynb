{
 "cells": [
  {
   "cell_type": "markdown",
   "id": "5933b410",
   "metadata": {},
   "source": [
    "### Splitting up diamond classification of ORFs into taxonomic categories for future plotting"
   ]
  },
  {
   "cell_type": "code",
   "execution_count": 1,
   "id": "58de0375",
   "metadata": {},
   "outputs": [],
   "source": [
    "import glob\n",
    "import os\n",
    "import pandas as pd\n",
    "import pysam\n",
    "import re\n",
    "import matplotlib.pyplot as plt\n",
    "import seaborn as sns"
   ]
  },
  {
   "cell_type": "code",
   "execution_count": 2,
   "id": "041016c6",
   "metadata": {},
   "outputs": [],
   "source": [
    "working_dir = '/vortexfs1/omics/env-bio/collaboration/dinoflagellates_METZYME/data/' \\\n",
    "            'metaT_trimmed_reads/fasta_files/paired/mRNA/whole_community_transcripts/'"
   ]
  },
  {
   "cell_type": "code",
   "execution_count": 3,
   "id": "ed2a194e",
   "metadata": {},
   "outputs": [],
   "source": [
    "wc_categories = ['Bacteroidetes', 'Alphaproteobacteria', 'Betaproteobacteria', 'Deltaproteobacteria', \n",
    "                 'Gammaproteobacteria', 'Other proteobacteria', 'Other bacteria', 'Archaea', 'Prochlorococcus', \n",
    "                 'Synechococcus', 'Other cyanobacteria', 'Chlorophyta', 'Cryptophyta', 'Diatom', \n",
    "                 'Other stramenopiles', 'Dinophyta', 'Haptophyta', 'Amoebozoa', 'Ciliophora', 'Excavata', 'Fungi', \n",
    "                 'Metazoa', 'Other eukaryotes', 'Rhizaria', 'Viruses']"
   ]
  },
  {
   "cell_type": "code",
   "execution_count": 4,
   "id": "d32fc519",
   "metadata": {},
   "outputs": [],
   "source": [
    "# Read in output of metaT_taxonomy.ipynb so we can split up into individual TSVs\n",
    "\n",
    "taxon_df = pd.read_csv(working_dir + '../diamond_output/dino_metzyme_annotated_coassembly_diamond_out' \\\n",
    "                       '_taxonomy.tsv', sep='\\t')"
   ]
  },
  {
   "cell_type": "markdown",
   "id": "9763ac39",
   "metadata": {},
   "source": [
    "### Start with bacteria kingdom\n",
    "\n",
    "Approach is to start by subsetting classifications where we know we want everything (i.e. all ORFs in the Synechococcus genus), and then take the complement of that when the classification is \"Other\" (i.e. \"Other cyanobacteria\" would be the complement of \"contains cyanobacteria but not prochlorococcus or synechococcus\")\n",
    "\n",
    "We will generate a dictionary of dataframes that correspond to each taxa of interest"
   ]
  },
  {
   "cell_type": "code",
   "execution_count": 213,
   "id": "b486b2f0",
   "metadata": {},
   "outputs": [],
   "source": [
    "# Starting with most specific levels of bacteria\n",
    "\n",
    "df_dict = {}\n",
    "for category in ['Bacteroidetes', 'Alphaproteobacteria', 'Betaproteobacteria', 'Deltaproteobacteria', \n",
    "                 'Gammaproteobacteria', 'Prochlorococcus', 'Synechococcus']:\n",
    "    # Look for rows that contain the category name (things like capitalization help prevent us from\n",
    "    # including mismatches)\n",
    "    df = taxon_df[taxon_df['taxonomy'].str.contains(category)]\n",
    "    df_dict[category] = df"
   ]
  },
  {
   "cell_type": "code",
   "execution_count": 215,
   "id": "a4fea77f",
   "metadata": {},
   "outputs": [],
   "source": [
    "# Other cyanobacteria\n",
    "other_df = taxon_df[taxon_df['taxonomy'].str.contains('Cyanobacteria')]\n",
    "\n",
    "# For every subcategory, get its complement with the full dataframe of Cyanobacteria \n",
    "# (essentially, subtracting it out)\n",
    "for category in ['Synechococcus', 'Prochlorococcus']:\n",
    "    # indicator=True adds a new 'merge' column that lets us know whether a row was in both dataframes or not\n",
    "    merged = other_df.merge(df_dict[category], how='left', indicator=True)\n",
    "    # Redefine other_df as the rows that were only in other_df to begin with\n",
    "    other_df = merged[merged['_merge'] == 'left_only'].drop('_merge', axis=1)\n",
    "    \n",
    "df_dict['Other_cyanobacteria'] = other_df"
   ]
  },
  {
   "cell_type": "code",
   "execution_count": 216,
   "id": "8276cb6c",
   "metadata": {},
   "outputs": [],
   "source": [
    "# Other proteobacteria, similar approach to before \n",
    "other_df = taxon_df[taxon_df['taxonomy'].str.contains('Proteobacteria')]\n",
    "\n",
    "for category in ['Alphaproteobacteria', 'Betaproteobacteria', 'Deltaproteobacteria', \n",
    "                 'Gammaproteobacteria']:\n",
    "    merged = other_df.merge(df_dict[category], how='left', indicator=True)\n",
    "    other_df = merged[merged['_merge'] == 'left_only'].drop('_merge', axis=1)\n",
    "    \n",
    "df_dict['Other_proteobacteria'] = other_df"
   ]
  },
  {
   "cell_type": "code",
   "execution_count": 217,
   "id": "d7d53003",
   "metadata": {},
   "outputs": [],
   "source": [
    "# Other bacteria, similar approach to above\n",
    "\n",
    "other_df = taxon_df[taxon_df['taxonomy'].str.contains('Bacteria')]\n",
    "\n",
    "for category in ['Cyanobacteria', 'Proteobacteria', 'Bacteroidetes']:\n",
    "    # Create a new df for three major phyla of interest and subtract it out from bacteria\n",
    "    phylum_df = taxon_df[taxon_df['taxonomy'].str.contains(category)]\n",
    "    merged = other_df.merge(phylum_df, how='left', indicator=True)\n",
    "    other_df = merged[merged['_merge'] == 'left_only'].drop('_merge', axis=1)\n",
    "    \n",
    "df_dict['Other_bacteria'] = other_df"
   ]
  },
  {
   "cell_type": "markdown",
   "id": "cea6ca37",
   "metadata": {},
   "source": [
    "### Repeat with archaea and viruses"
   ]
  },
  {
   "cell_type": "code",
   "execution_count": 218,
   "id": "19a926cd",
   "metadata": {},
   "outputs": [],
   "source": [
    "# Just pick out rows that contain \"archaea\" or \"viruses\"\n",
    "\n",
    "for category in ['Archaea', 'Viruses']:\n",
    "    df = taxon_df[taxon_df['taxonomy'].str.contains(category)]\n",
    "    df_dict[category] = df"
   ]
  },
  {
   "cell_type": "markdown",
   "id": "06288a10",
   "metadata": {},
   "source": [
    "### Lastly do Eukaryota — identical approach to above with bacteria"
   ]
  },
  {
   "cell_type": "code",
   "execution_count": null,
   "id": "26957d46",
   "metadata": {},
   "outputs": [],
   "source": [
    "for category in ['Chlorophyta', 'Cryptophyta', 'Bacillariophyta', 'Dinophyta', 'Excavata',\n",
    "                 'Haptophyta', 'Amoebozoa', 'Ciliophora', 'Fungi', 'Metazoa', 'Rhizaria']:\n",
    "    df = taxon_df[taxon_df['taxonomy'].str.contains(category)]\n",
    "    df_dict[category] = df\n",
    "    \n",
    "# Using common name for diatom for ease of interpretation\n",
    "df_dict['Diatom'] = df_dict.pop('Bacillariophyta')"
   ]
  },
  {
   "cell_type": "code",
   "execution_count": 220,
   "id": "d9da49cf",
   "metadata": {},
   "outputs": [],
   "source": [
    "# Other stramenopiles\n",
    "other_df = taxon_df[taxon_df['taxonomy'].str.contains('Stramenopile')]\n",
    "\n",
    "for category in ['Diatom']:\n",
    "    merged = other_df.merge(df_dict[category], how='left', indicator=True)\n",
    "    other_df = merged[merged['_merge'] == 'left_only'].drop('_merge', axis=1)\n",
    "    \n",
    "df_dict['Other_stramenopiles'] = other_df"
   ]
  },
  {
   "cell_type": "code",
   "execution_count": 221,
   "id": "08f4bce0",
   "metadata": {},
   "outputs": [],
   "source": [
    "# Other eukaryotes\n",
    "other_df = taxon_df[taxon_df['taxonomy'].str.contains('Eukaryota')]\n",
    "\n",
    "for category in ['Chlorophyta', 'Cryptophyta', 'Diatom', 'Dinophyta', 'Excavata',\n",
    "                 'Haptophyta', 'Amoebozoa', 'Ciliophora', 'Fungi', 'Metazoa', 'Rhizaria', 'Other_stramenopiles']:\n",
    "    merged = other_df.merge(df_dict[category], how='left', indicator=True)\n",
    "    other_df = merged[merged['_merge'] == 'left_only'].drop('_merge', axis=1)\n",
    "    \n",
    "df_dict['Other_eukaryotes'] = other_df"
   ]
  },
  {
   "cell_type": "code",
   "execution_count": 222,
   "id": "525c4118",
   "metadata": {},
   "outputs": [],
   "source": [
    "### Want to save all dataframes to individual tsv files for ease of making the plots\n",
    "# We can also filter for eukaryotes specifically to make those relative abundance plots.\n",
    "\n",
    "#output format will be 'transcripts_{key}.tsv'\n",
    "transcript_file_name = working_dir + 'transcripts_' \n",
    "\n",
    "for key in df_dict.keys():\n",
    "    df_dict[key].to_csv(transcript_file_name + f'{key}.tsv', sep='\\t')"
   ]
  }
 ],
 "metadata": {
  "kernelspec": {
   "display_name": "Python 3 (ipykernel)",
   "language": "python",
   "name": "python3"
  },
  "language_info": {
   "codemirror_mode": {
    "name": "ipython",
    "version": 3
   },
   "file_extension": ".py",
   "mimetype": "text/x-python",
   "name": "python",
   "nbconvert_exporter": "python",
   "pygments_lexer": "ipython3",
   "version": "3.10.0"
  }
 },
 "nbformat": 4,
 "nbformat_minor": 5
}
